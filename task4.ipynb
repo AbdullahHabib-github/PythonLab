{
  "nbformat": 4,
  "nbformat_minor": 0,
  "metadata": {
    "colab": {
      "provenance": []
    },
    "kernelspec": {
      "name": "python3",
      "display_name": "Python 3"
    },
    "language_info": {
      "name": "python"
    }
  },
  "cells": [
    {
      "cell_type": "code",
      "source": [
        "graph = {\"A\":[(\"D\", 4), (\"B\", 2), (\"F\", 8)],\n",
        "         \"B\":[(\"A\", 2), (\"E\", 5), (\"F\", 1)],\n",
        "         \"C\":[(\"D\", 4), (\"F\", 3)],\n",
        "         \"D\":[(\"A\", 3), (\"C\", 4), (\"E\", 6)],\n",
        "         \"E\":[(\"B\", 5), (\"D\", 6)],\n",
        "         \"F\":[(\"A\", 8), (\"B\", 1), (\"C\", 3)]}"
      ],
      "metadata": {
        "id": "Ciqp2GTV7fCx"
      },
      "execution_count": null,
      "outputs": []
    },
    {
      "cell_type": "code",
      "source": [
        "graph.get(\"B\")\n",
        "def check(queue,num):\n",
        "  for i in queue:\n",
        "    if i[0]==num:\n",
        "      return True\n",
        "  return False    "
      ],
      "metadata": {
        "id": "t85oJ5mD8q8e"
      },
      "execution_count": null,
      "outputs": []
    },
    {
      "cell_type": "code",
      "source": [
        "def UCS(graph,start,end):\n",
        "  queue=[]\n",
        "  explored=[]\n",
        "  queue.append((start,0))\n",
        "  # print(queue)\n",
        "  while queue:\n",
        "    temp=queue.pop(0)\n",
        "    print(temp)\n",
        "    if temp[0]==end:\n",
        "      print(\"goal achieved\")\n",
        "      return\n",
        "    explored.append(temp[0])\n",
        "    children = graph.get(temp[0])\n",
        "    for child in children:\n",
        "      if child not in explored and not check(queue,child[0]):\n",
        "        temp2=(child[0],child[1]+temp[1])\n",
        "        queue.append(temp2)\n",
        "      elif check(queue,child[0]):\n",
        "        for i,j in enumerate(queue):\n",
        "          if j[0]==child[0] and j[1]>(child[1]+temp[1]):\n",
        "            queue[i]=(child[0],child[1]+temp[1])\n",
        "    queue = sorted(queue,key=lambda x:x[1],reverse=False)        \n",
        "\n",
        "        "
      ],
      "metadata": {
        "id": "mcN7Enb38eEJ"
      },
      "execution_count": null,
      "outputs": []
    },
    {
      "cell_type": "code",
      "source": [
        "UCS(graph,\"A\",\"E\")"
      ],
      "metadata": {
        "colab": {
          "base_uri": "https://localhost:8080/"
        },
        "id": "TQJmnFOW7h8p",
        "outputId": "d9bd42f7-57ef-4ffc-c186-d55a22c364ea"
      },
      "execution_count": null,
      "outputs": [
        {
          "output_type": "stream",
          "name": "stdout",
          "text": [
            "('A', 0)\n",
            "('B', 2)\n",
            "('F', 3)\n",
            "('D', 4)\n",
            "('A', 4)\n",
            "('B', 4)\n",
            "('F', 5)\n",
            "('C', 6)\n",
            "('A', 6)\n",
            "('B', 6)\n",
            "('E', 7)\n",
            "goal achieved\n"
          ]
        }
      ]
    },
    {
      "cell_type": "code",
      "source": [
        "# the following string A is copied from the online graph editor \n",
        "A=\"A\\nB\\nC\\nD\\nE\\nF\\nA D 4\\nA B 2\\nA F 8\\nB A 2\\nB E 5\\nB F 1\\nC D 4\\nC F 3\\nD A 3\\nD C 4\\nD E 6\\nE B 5\\nE D 6\\nF A 8\\nF B 1\\nF C 3\"\n",
        "L=[]\n",
        "for a in A.split(\"\\n\"):\n",
        "    L.append(a.split())\n",
        "L    \n",
        "Dict={}\n",
        "for i in L:\n",
        "  if len(i)==1:\n",
        "    Dict[i[0]]=[]\n",
        "  else:\n",
        "    Dict[i[0]].append((i[1],int(i[2])))  \n",
        "Dict    "
      ],
      "metadata": {
        "colab": {
          "base_uri": "https://localhost:8080/"
        },
        "id": "p014WG5R7yT8",
        "outputId": "02e07085-32b7-4a1d-dd74-ec8224116d8a"
      },
      "execution_count": null,
      "outputs": [
        {
          "output_type": "execute_result",
          "data": {
            "text/plain": [
              "{'A': [('D', 4), ('B', 2), ('F', 8)],\n",
              " 'B': [('A', 2), ('E', 5), ('F', 1)],\n",
              " 'C': [('D', 4), ('F', 3)],\n",
              " 'D': [('A', 3), ('C', 4), ('E', 6)],\n",
              " 'E': [('B', 5), ('D', 6)],\n",
              " 'F': [('A', 8), ('B', 1), ('C', 3)]}"
            ]
          },
          "metadata": {},
          "execution_count": 67
        }
      ]
    },
    {
      "cell_type": "code",
      "source": [],
      "metadata": {
        "id": "QxP9EyCABVaG"
      },
      "execution_count": null,
      "outputs": []
    },
    {
      "cell_type": "markdown",
      "source": [
        "Arad Map"
      ],
      "metadata": {
        "id": "do8lEkU3HBHk"
      }
    },
    {
      "cell_type": "code",
      "source": [
        "Map = {\n",
        "         'Arad': [('Sibiu', 140), ('Timisoara', 118), ('Zerind', 75)],\n",
        "         'Sibiu': [('Arad', 140), ('Oradea', 151), ('Fagaras', 99), ('Rimnicu', 80)],\n",
        "         'Timisoara': [('Arad', 118), ('Lugoj', 111)],\n",
        "         'Zerind': [('Arad', 75), ('Oradea', 71)],\n",
        "         'Oradea': [('Zerind', 71), ('Sibiu', 151)],\n",
        "         'Fagaras': [('Sibiu', 99), ('Bucharest', 211)],\n",
        "         'Rimnicu': [('Sibiu', 80), ('Craivo', 146), ('Pitesti', 97)],\n",
        "         'Lugoj': [('Timisoara', 111), ('Mehadia', 70)],\n",
        "         'Bucharest': [('Giurgiu', 90), ('Urziceni', 85), ('Pitesti', 101), ('Fagaras', 211)],\n",
        "         'Craivo': [('Dobreta', 120), ('Pitesti', 138), ('Rimnicu', 146)],\n",
        "         'Pitesti': [('Rimnicu', 97), ('Craivo', 138), ('Bucharest', 101)],\n",
        "         'Mehadia': [('Dobreta', 75), ('Lugoj', 70)],\n",
        "         'Giurgiu': [('Bucharest', 90)],\n",
        "         'Urziceni': [('Bucharest', 85), ('Hirsova', 98), ('Vaslui', 142)],\n",
        "         'Dobreta': [('Mehadia', 75), ('Craivo', 120)],\n",
        "         'Hirsova' : [('Eforie', 86), ('Urziceni', 98)],\n",
        "         'Vaslui' : [('Urziceni', 142), ('Lasi', 92)],\n",
        "         'Eforie' : [('Hirsova', 86)],\n",
        "         'Lasi': [('Neamt', 87), ('Vaslui', 92)],\n",
        "         'Neamt': [('Lasi', 87)],\n",
        "}"
      ],
      "metadata": {
        "id": "Pu1N7jQcFXvB"
      },
      "execution_count": null,
      "outputs": []
    },
    {
      "cell_type": "code",
      "source": [
        "UCS(Map,\"Arad\",\"Bucharest\")"
      ],
      "metadata": {
        "colab": {
          "base_uri": "https://localhost:8080/"
        },
        "id": "drUBYUibHxus",
        "outputId": "4ff4b7ba-247e-4310-8e4e-a9c83a791311"
      },
      "execution_count": null,
      "outputs": [
        {
          "output_type": "stream",
          "name": "stdout",
          "text": [
            "('Arad', 0)\n",
            "('Zerind', 75)\n",
            "('Timisoara', 118)\n",
            "('Sibiu', 140)\n",
            "('Oradea', 146)\n",
            "('Arad', 150)\n",
            "('Zerind', 217)\n",
            "('Rimnicu', 220)\n",
            "('Zerind', 225)\n",
            "('Lugoj', 229)\n",
            "('Arad', 236)\n",
            "('Fagaras', 239)\n",
            "('Timisoara', 268)\n",
            "('Arad', 280)\n",
            "('Oradea', 288)\n",
            "('Sibiu', 290)\n",
            "('Oradea', 291)\n",
            "('Arad', 292)\n",
            "('Oradea', 296)\n",
            "('Sibiu', 297)\n",
            "('Mehadia', 299)\n",
            "('Sibiu', 300)\n",
            "('Arad', 300)\n",
            "('Zerind', 311)\n",
            "('Pitesti', 317)\n",
            "('Sibiu', 338)\n",
            "('Timisoara', 340)\n",
            "('Timisoara', 354)\n",
            "('Zerind', 355)\n",
            "('Zerind', 359)\n",
            "('Zerind', 362)\n",
            "('Craivo', 366)\n",
            "('Zerind', 367)\n",
            "('Zerind', 367)\n",
            "('Lugoj', 369)\n",
            "('Rimnicu', 370)\n",
            "('Dobreta', 374)\n",
            "('Zerind', 375)\n",
            "('Sibiu', 376)\n",
            "('Rimnicu', 377)\n",
            "('Lugoj', 379)\n",
            "('Rimnicu', 380)\n",
            "('Oradea', 382)\n",
            "('Arad', 386)\n",
            "('Arad', 386)\n",
            "('Fagaras', 389)\n",
            "('Fagaras', 396)\n",
            "('Timisoara', 398)\n",
            "('Fagaras', 399)\n",
            "('Timisoara', 410)\n",
            "('Rimnicu', 414)\n",
            "('Timisoara', 418)\n",
            "('Bucharest', 418)\n",
            "goal achieved\n"
          ]
        }
      ]
    },
    {
      "cell_type": "code",
      "source": [
        "def UCSPath(graph,start,end):\n",
        "  queue=[]\n",
        "  explored=[]\n",
        "  path={start:[]}\n",
        "  queue.append((start,0))\n",
        "  # print(queue)\n",
        "  while queue:\n",
        "    temp=queue.pop(0)\n",
        "    if temp[0]==end:\n",
        "      print(\"goal achieved\")\n",
        "      return path[end]\n",
        "    explored.append(temp[0])\n",
        "    children = graph.get(temp[0])\n",
        "    for child in children:\n",
        "      if child not in explored and not check(queue,child[0]):\n",
        "        temp2=(child[0],child[1]+temp[1])\n",
        "        queue.append(temp2)\n",
        "        path[child[0]] = path[temp[0]] + [temp[0]]\n",
        "      elif check(queue,child[0]):\n",
        "        for i,j in enumerate(queue):\n",
        "          if j[0]==child[0] and j[1]>(child[1]+temp[1]):\n",
        "            queue[i]=(child[0],child[1]+temp[1])\n",
        "            path[child[0]] = path[temp[0]] + [temp[0]]\n",
        "    queue = sorted(queue,key=lambda x:x[1])     \n",
        "  return path[end]           "
      ],
      "metadata": {
        "id": "68NnKLRwIARE"
      },
      "execution_count": null,
      "outputs": []
    },
    {
      "cell_type": "code",
      "source": [
        "UCSPath(Map,\"Arad\",\"Bucharest\")"
      ],
      "metadata": {
        "colab": {
          "base_uri": "https://localhost:8080/"
        },
        "id": "elGVClVOKKrA",
        "outputId": "99c8f411-ed8d-412c-bae1-c9fc91461977"
      },
      "execution_count": null,
      "outputs": [
        {
          "output_type": "stream",
          "name": "stdout",
          "text": [
            "goal achieved\n"
          ]
        },
        {
          "output_type": "execute_result",
          "data": {
            "text/plain": [
              "['Arad', 'Sibiu', 'Rimnicu', 'Pitesti']"
            ]
          },
          "metadata": {},
          "execution_count": 99
        }
      ]
    },
    {
      "cell_type": "code",
      "source": [],
      "metadata": {
        "id": "S5lwg6DRLMVW"
      },
      "execution_count": null,
      "outputs": []
    }
  ]
}