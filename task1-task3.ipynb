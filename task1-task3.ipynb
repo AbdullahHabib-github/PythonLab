{
  "nbformat": 4,
  "nbformat_minor": 0,
  "metadata": {
    "colab": {
      "provenance": []
    },
    "kernelspec": {
      "name": "python3",
      "display_name": "Python 3"
    },
    "language_info": {
      "name": "python"
    }
  },
  "cells": [
    {
      "cell_type": "code",
      "source": [
        "class node:\n",
        "  def __init__(self,data):\n",
        "     self.data=data\n",
        "     self.left = None\n",
        "     self.right=None\n",
        "class BST:\n",
        "  found = False\n",
        "  def __init__(self):\n",
        "    self.root=None\n",
        "  def insert_node(self,basenode,data):\n",
        "    if(basenode==None) :\n",
        "      newnode=node(data)\n",
        "      return newnode\n",
        "    if(data<basenode.data):\n",
        "      basenode.left=self.insert_node(basenode.left,data)\n",
        "    else:\n",
        "      basenode.right=self.insert_node(basenode.right,data)\n",
        "    return basenode  \n",
        "\n",
        "\n",
        "  def insert(self,data):\n",
        "    self.root =  self.insert_node(self.root,data)      \n",
        "\n",
        "  def DFS (self,basenode):\n",
        "    if (basenode==None):\n",
        "      print(\"the tree is empty\" )\n",
        "    if(basenode.left!=None):\n",
        "      self.DFS(basenode.left)  \n",
        "    print(basenode.data)  \n",
        "    if(basenode.right!=None):\n",
        "      self.DFS(basenode.right)  \n",
        "\n",
        "  def DFS_search (self,basenode,data):\n",
        "    if (basenode==None):\n",
        "      print(\"the tree is empty\" )\n",
        "    if(basenode.data==data):  \n",
        "       print(basenode.data) \n",
        "       self.found = True\n",
        "       return  \n",
        "    if(basenode.left!=None and self.found==False):\n",
        "      self.DFS_search(basenode.left,data)  \n",
        "    if(basenode.right!=None and self.found==False):\n",
        "      self.DFS_search(basenode.right,data)    \n",
        "\n",
        "\n",
        "  def BFS (self):\n",
        "    if(self.root==None):\n",
        "      print(\"the tree is empty\")\n",
        "      return\n",
        "    q=[self.root]\n",
        "    while(len(q)>0):\n",
        "       temp = q.pop(0)\n",
        "       print(temp.data)\n",
        "       if(temp.left!=None):\n",
        "         q.append(temp.left)\n",
        "       if(temp.right!=None):\n",
        "         q.append(temp.right)  \n",
        "\n",
        "\n",
        "  def BFS_search (self,data):\n",
        "    if(self.root==None):\n",
        "      print(\"the tree is empty\")\n",
        "      return\n",
        "    q=[self.root]\n",
        "    while(len(q)>0):\n",
        "       temp = q.pop(0)\n",
        "       if(temp.data==data):\n",
        "         print(\"Num found\")\n",
        "         return\n",
        "       if(temp.left!=None):\n",
        "         q.append(temp.left)\n",
        "       if(temp.right!=None):\n",
        "         q.append(temp.right)         \n"
      ],
      "metadata": {
        "id": "PqYQjQhjrHch"
      },
      "execution_count": null,
      "outputs": []
    },
    {
      "cell_type": "markdown",
      "source": [
        "Graphs"
      ],
      "metadata": {
        "id": "oKXFtfNMevAL"
      }
    },
    {
      "cell_type": "code",
      "source": [
        "from collections import defaultdict\n",
        "class Graph:\n",
        "  def __init__(self):\n",
        "      self.graph = defaultdict(list)\n",
        "  def addEdge(self,u,v):\n",
        "    self.graph[u].append(v)\n",
        "  def bfs(self,s):\n",
        "    visited = []\n",
        "    queue=[s]\n",
        "    while(queue):\n",
        "      temp = queue.pop(0)\n",
        "      if(temp not in visited):\n",
        "        visited.append(temp)\n",
        "        print(temp)\n",
        "        for i in self.graph[temp]:\n",
        "          queue.append(i)\n",
        "\n",
        "  def dfs(self,s):\n",
        "    visited = []\n",
        "    stack=[s]\n",
        "    while(stack):\n",
        "      temp = stack.pop(-1)\n",
        "      if(temp not in visited):\n",
        "        visited.append(temp)\n",
        "        print(temp)\n",
        "        for i in self.graph[temp]:\n",
        "          stack.append(i)\n"
      ],
      "metadata": {
        "id": "Eybyyru5ewWX"
      },
      "execution_count": null,
      "outputs": []
    },
    {
      "cell_type": "code",
      "source": [
        "g = Graph()\n",
        "g.addEdge(0, 1)\n",
        "g.addEdge(0, 2)\n",
        "g.addEdge(1, 2)\n",
        "g.addEdge(2, 0)\n",
        "g.addEdge(2, 3)\n",
        "g.addEdge(3, 3)\n",
        "g.addEdge(0, 5)\n",
        " \n",
        "print(\"Following is Breadth First Traversal\"\n",
        "      \" (starting from vertex 2)\")\n",
        "g.dfs(1)\n",
        " "
      ],
      "metadata": {
        "colab": {
          "base_uri": "https://localhost:8080/"
        },
        "id": "JleRKDfWh91Y",
        "outputId": "be07664e-289d-43d0-d11e-28b26a57530b"
      },
      "execution_count": null,
      "outputs": [
        {
          "output_type": "stream",
          "name": "stdout",
          "text": [
            "Following is Breadth First Traversal (starting from vertex 2)\n",
            "1\n",
            "2\n",
            "3\n",
            "0\n",
            "5\n"
          ]
        }
      ]
    },
    {
      "cell_type": "code",
      "source": [
        "import random\n",
        "total = 1000\n",
        "a = random.sample(range(0, 50000), total)"
      ],
      "metadata": {
        "id": "fvoav5wZMq7F"
      },
      "execution_count": null,
      "outputs": []
    },
    {
      "cell_type": "code",
      "source": [],
      "metadata": {
        "id": "C0Zq1tlpn03r"
      },
      "execution_count": null,
      "outputs": []
    },
    {
      "cell_type": "markdown",
      "source": [
        "**Task#2**"
      ],
      "metadata": {
        "id": "bCFqyCx8mred"
      }
    },
    {
      "cell_type": "code",
      "source": [
        "A = 1000\n",
        "B = 40000\n",
        "C=  80000\n",
        "D=  200000\n",
        "E=  1000000\n",
        "\n",
        "import random\n",
        "A = random.sample(range(0, 5000000), A)\n",
        "B = random.sample(range(0, 5000000), B)\n",
        "C = random.sample(range(0, 5000000), C)\n",
        "D = random.sample(range(0, 5000000), D)\n",
        "E = random.sample(range(0, 5000000), E)"
      ],
      "metadata": {
        "id": "ZRM-S-YJm1id"
      },
      "execution_count": null,
      "outputs": []
    },
    {
      "cell_type": "code",
      "source": [
        "a = BST()\n",
        "for i in A:\n",
        "  a.insert(i)\n",
        "\n",
        "b = BST()\n",
        "for i in B:\n",
        "  b.insert(i)\n",
        "\n",
        "c = BST()\n",
        "for i in C:\n",
        "  c.insert(i)    \n",
        "\n",
        "d = BST()\n",
        "for i in D:\n",
        "  d.insert(i)\n",
        "\n",
        "e = BST()\n",
        "for i in E:\n",
        "  e.insert(i)  "
      ],
      "metadata": {
        "id": "upKgA6JrnNUC"
      },
      "execution_count": null,
      "outputs": []
    },
    {
      "cell_type": "code",
      "source": [
        "g=A[len(A)-220]"
      ],
      "metadata": {
        "id": "tfOrPZqkoSD2"
      },
      "execution_count": null,
      "outputs": []
    },
    {
      "cell_type": "code",
      "source": [
        "dic={}"
      ],
      "metadata": {
        "id": "ubGn6PKXozSW"
      },
      "execution_count": null,
      "outputs": []
    },
    {
      "cell_type": "code",
      "source": [
        "L=E\n",
        "T=e"
      ],
      "metadata": {
        "id": "OoK-ddbYM2P4"
      },
      "execution_count": null,
      "outputs": []
    },
    {
      "cell_type": "code",
      "source": [
        "x=L[len(L)-220]\n",
        "total = len(L)"
      ],
      "metadata": {
        "id": "7YWb4GBPVSID"
      },
      "execution_count": null,
      "outputs": []
    },
    {
      "cell_type": "code",
      "source": [
        "import time\n",
        "start = time.time()\n",
        "T.BFS_search(x)\n",
        "end = time.time()\n",
        "diff=end-start"
      ],
      "metadata": {
        "colab": {
          "base_uri": "https://localhost:8080/"
        },
        "id": "BC27soiRNlnm",
        "outputId": "9d33101f-e09a-44fc-9c72-6839f4dc85ff"
      },
      "execution_count": null,
      "outputs": [
        {
          "output_type": "stream",
          "name": "stdout",
          "text": [
            "Num found\n"
          ]
        }
      ]
    },
    {
      "cell_type": "code",
      "source": [
        "dic[\"BFS_\"+str(total)]=diff\n",
        "dic"
      ],
      "metadata": {
        "colab": {
          "base_uri": "https://localhost:8080/"
        },
        "id": "ENdwqy5ckZcj",
        "outputId": "c37e6275-6e01-4969-8e52-0b891bdcca9f"
      },
      "execution_count": null,
      "outputs": [
        {
          "output_type": "execute_result",
          "data": {
            "text/plain": [
              "{'BFS_1000': 0.0010328292846679688,\n",
              " 'DFS_1000': 0.0006282329559326172,\n",
              " 'BFS_40000': 0.02685236930847168,\n",
              " 'DFS_40000': 0.03754734992980957,\n",
              " 'BFS_80000': 0.15070676803588867,\n",
              " 'DFS_80000': 0.02941727638244629,\n",
              " 'BFS_200000': 0.49098992347717285,\n",
              " 'DFS_200000': 0.18863821029663086,\n",
              " 'BFS_1000000': 11.934588432312012}"
            ]
          },
          "metadata": {},
          "execution_count": 34
        }
      ]
    },
    {
      "cell_type": "code",
      "source": [
        "start = time.time()\n",
        "T.DFS_search(T.root,x)\n",
        "T.found=False\n",
        "end = time.time()\n",
        "diff=end-start"
      ],
      "metadata": {
        "colab": {
          "base_uri": "https://localhost:8080/"
        },
        "id": "OcKJJZ-pkGn5",
        "outputId": "3c479597-17f9-46ff-c1d3-d9965b158119"
      },
      "execution_count": null,
      "outputs": [
        {
          "output_type": "stream",
          "name": "stdout",
          "text": [
            "1532630\n"
          ]
        }
      ]
    },
    {
      "cell_type": "code",
      "source": [
        "dic[\"DFS_\"+str(total)]=diff\n",
        "dic"
      ],
      "metadata": {
        "colab": {
          "base_uri": "https://localhost:8080/"
        },
        "id": "LaiJ8EbJSBEs",
        "outputId": "904c71de-5df6-452e-dd98-d64bea16a46a"
      },
      "execution_count": null,
      "outputs": [
        {
          "output_type": "execute_result",
          "data": {
            "text/plain": [
              "{'BFS_1000': 0.0010328292846679688,\n",
              " 'DFS_1000': 0.0006282329559326172,\n",
              " 'BFS_40000': 0.02685236930847168,\n",
              " 'DFS_40000': 0.03754734992980957,\n",
              " 'BFS_80000': 0.15070676803588867,\n",
              " 'DFS_80000': 0.02941727638244629,\n",
              " 'BFS_200000': 0.49098992347717285,\n",
              " 'DFS_200000': 0.18863821029663086,\n",
              " 'BFS_1000000': 11.934588432312012,\n",
              " 'DFS_1000000': 0.514847993850708}"
            ]
          },
          "metadata": {},
          "execution_count": 36
        }
      ]
    },
    {
      "cell_type": "code",
      "source": [
        "res=dic.copy()"
      ],
      "metadata": {
        "id": "QTGdsL27Wj0U"
      },
      "execution_count": null,
      "outputs": []
    },
    {
      "cell_type": "code",
      "source": [
        "res"
      ],
      "metadata": {
        "colab": {
          "base_uri": "https://localhost:8080/"
        },
        "id": "__LEEOjOWw5z",
        "outputId": "5354b056-f095-4546-f3d5-84219cc89e9f"
      },
      "execution_count": null,
      "outputs": [
        {
          "output_type": "execute_result",
          "data": {
            "text/plain": [
              "{'BFS_1000': 0.0010328292846679688,\n",
              " 'DFS_1000': 0.0006282329559326172,\n",
              " 'BFS_40000': 0.02685236930847168,\n",
              " 'DFS_40000': 0.03754734992980957,\n",
              " 'BFS_80000': 0.15070676803588867,\n",
              " 'DFS_80000': 0.02941727638244629,\n",
              " 'BFS_200000': 0.49098992347717285,\n",
              " 'DFS_200000': 0.18863821029663086,\n",
              " 'BFS_1000000': 11.934588432312012,\n",
              " 'DFS_1000000': 0.514847993850708}"
            ]
          },
          "metadata": {},
          "execution_count": 38
        }
      ]
    },
    {
      "cell_type": "code",
      "source": [
        "import pandas as pd\n",
        "df = pd.DataFrame(res.values(),res.keys())\n",
        "df.plot.bar()"
      ],
      "metadata": {
        "colab": {
          "base_uri": "https://localhost:8080/",
          "height": 341
        },
        "id": "X7Jo9sM6kRPc",
        "outputId": "2a0083cb-22af-410a-def5-884371af8ff3"
      },
      "execution_count": null,
      "outputs": [
        {
          "output_type": "execute_result",
          "data": {
            "text/plain": [
              "<AxesSubplot:>"
            ]
          },
          "metadata": {},
          "execution_count": 73
        },
        {
          "output_type": "display_data",
          "data": {
            "text/plain": [
              "<Figure size 432x288 with 1 Axes>"
            ],
            "image/png": "[encoded data removed]"
          },
          "metadata": {
            "needs_background": "light"
          }
        }
      ]
    },
    {
      "cell_type": "code",
      "source": [
        "df=df.transpose()\n",
        "df.columns"
      ],
      "metadata": {
        "id": "f3DqCV8HoicI",
        "colab": {
          "base_uri": "https://localhost:8080/"
        },
        "outputId": "d70d6e9a-00f7-4741-8c67-49099ec1cfbd"
      },
      "execution_count": null,
      "outputs": [
        {
          "output_type": "execute_result",
          "data": {
            "text/plain": [
              "Index(['BFS_1000', 'DFS_1000', 'BFS_40000', 'DFS_40000', 'BFS_80000',\n",
              "       'DFS_80000', 'BFS_200000', 'DFS_200000', 'BFS_1000000', 'DFS_1000000'],\n",
              "      dtype='object')"
            ]
          },
          "metadata": {},
          "execution_count": 76
        }
      ]
    },
    {
      "cell_type": "code",
      "source": [
        "BFS = df[df.columns[df.columns.str.contains(\"BFS\")]]\n",
        "DFS = df[df.columns[df.columns.str.contains(\"DFS\")]]"
      ],
      "metadata": {
        "id": "k_4VDS0hv_w-"
      },
      "execution_count": null,
      "outputs": []
    },
    {
      "cell_type": "code",
      "source": [
        "BFS=BFS.transpose()\n",
        "DFS=DFS.transpose()"
      ],
      "metadata": {
        "id": "bx8_s94NxEGe"
      },
      "execution_count": null,
      "outputs": []
    },
    {
      "cell_type": "code",
      "source": [
        "BFS.rename(columns={0: 'BFS Time'}, inplace=True)\n",
        "BFS.index = BFS.index.str.strip('BFS_')\n",
        "\n",
        "DFS.rename(columns={0: 'DFS Time'}, inplace=True)\n",
        "DFS.index = DFS.index.str.strip('DFS_')"
      ],
      "metadata": {
        "id": "EqRu-uzoxS9M"
      },
      "execution_count": null,
      "outputs": []
    },
    {
      "cell_type": "code",
      "source": [
        "DFS"
      ],
      "metadata": {
        "colab": {
          "base_uri": "https://localhost:8080/",
          "height": 206
        },
        "id": "WqhoUAeAxmbr",
        "outputId": "40359ea0-5c87-4846-d098-4d17a36e7c68"
      },
      "execution_count": null,
      "outputs": [
        {
          "output_type": "execute_result",
          "data": {
            "text/plain": [
              "         DFS Time\n",
              "1000     0.000628\n",
              "40000    0.037547\n",
              "80000    0.029417\n",
              "200000   0.188638\n",
              "1000000  0.514848"
            ],
            "text/html": [
              "\n",
              "  <div id=\"df-7c6be6d4-d03f-49ba-87f4-9cfc13899e2b\">\n",
              "    <div class=\"colab-df-container\">\n",
              "      <div>\n",
              "<style scoped>\n",
              "    .dataframe tbody tr th:only-of-type {\n",
              "        vertical-align: middle;\n",
              "    }\n",
              "\n",
              "    .dataframe tbody tr th {\n",
              "        vertical-align: top;\n",
              "    }\n",
              "\n",
              "    .dataframe thead th {\n",
              "        text-align: right;\n",
              "    }\n",
              "</style>\n",
              "<table border=\"1\" class=\"dataframe\">\n",
              "  <thead>\n",
              "    <tr style=\"text-align: right;\">\n",
              "      <th></th>\n",
              "      <th>DFS Time</th>\n",
              "    </tr>\n",
              "  </thead>\n",
              "  <tbody>\n",
              "    <tr>\n",
              "      <th>1000</th>\n",
              "      <td>0.000628</td>\n",
              "    </tr>\n",
              "    <tr>\n",
              "      <th>40000</th>\n",
              "      <td>0.037547</td>\n",
              "    </tr>\n",
              "    <tr>\n",
              "      <th>80000</th>\n",
              "      <td>0.029417</td>\n",
              "    </tr>\n",
              "    <tr>\n",
              "      <th>200000</th>\n",
              "      <td>0.188638</td>\n",
              "    </tr>\n",
              "    <tr>\n",
              "      <th>1000000</th>\n",
              "      <td>0.514848</td>\n",
              "    </tr>\n",
              "  </tbody>\n",
              "</table>\n",
              "</div>\n",
              "      <button class=\"colab-df-convert\" onclick=\"convertToInteractive('df-7c6be6d4-d03f-49ba-87f4-9cfc13899e2b')\"\n",
              "              title=\"Convert this dataframe to an interactive table.\"\n",
              "              style=\"display:none;\">\n",
              "        \n",
              "  <svg xmlns=\"http://www.w3.org/2000/svg\" height=\"24px\"viewBox=\"0 0 24 24\"\n",
              "       width=\"24px\">\n",
              "    <path d=\"M0 0h24v24H0V0z\" fill=\"none\"/>\n",
              "    <path d=\"M18.56 5.44l.94 2.06.94-2.06 2.06-.94-2.06-.94-.94-2.06-.94 2.06-2.06.94zm-11 1L8.5 8.5l.94-2.06 2.06-.94-2.06-.94L8.5 2.5l-.94 2.06-2.06.94zm10 10l.94 2.06.94-2.06 2.06-.94-2.06-.94-.94-2.06-.94 2.06-2.06.94z\"/><path d=\"M17.41 7.96l-1.37-1.37c-.4-.4-.92-.59-1.43-.59-.52 0-1.04.2-1.43.59L10.3 9.45l-7.72 7.72c-.78.78-.78 2.05 0 2.83L4 21.41c.39.39.9.59 1.41.59.51 0 1.02-.2 1.41-.59l7.78-7.78 2.81-2.81c.8-.78.8-2.07 0-2.86zM5.41 20L4 18.59l7.72-7.72 1.47 1.35L5.41 20z\"/>\n",
              "  </svg>\n",
              "      </button>\n",
              "      \n",
              "  <style>\n",
              "    .colab-df-container {\n",
              "      display:flex;\n",
              "      flex-wrap:wrap;\n",
              "      gap: 12px;\n",
              "    }\n",
              "\n",
              "    .colab-df-convert {\n",
              "      background-color: #E8F0FE;\n",
              "      border: none;\n",
              "      border-radius: 50%;\n",
              "      cursor: pointer;\n",
              "      display: none;\n",
              "      fill: #1967D2;\n",
              "      height: 32px;\n",
              "      padding: 0 0 0 0;\n",
              "      width: 32px;\n",
              "    }\n",
              "\n",
              "    .colab-df-convert:hover {\n",
              "      background-color: #E2EBFA;\n",
              "      box-shadow: 0px 1px 2px rgba(60, 64, 67, 0.3), 0px 1px 3px 1px rgba(60, 64, 67, 0.15);\n",
              "      fill: #174EA6;\n",
              "    }\n",
              "\n",
              "    [theme=dark] .colab-df-convert {\n",
              "      background-color: #3B4455;\n",
              "      fill: #D2E3FC;\n",
              "    }\n",
              "\n",
              "    [theme=dark] .colab-df-convert:hover {\n",
              "      background-color: #434B5C;\n",
              "      box-shadow: 0px 1px 3px 1px rgba(0, 0, 0, 0.15);\n",
              "      filter: drop-shadow(0px 1px 2px rgba(0, 0, 0, 0.3));\n",
              "      fill: #FFFFFF;\n",
              "    }\n",
              "  </style>\n",
              "\n",
              "      <script>\n",
              "        const buttonEl =\n",
              "          document.querySelector('#df-7c6be6d4-d03f-49ba-87f4-9cfc13899e2b button.colab-df-convert');\n",
              "        buttonEl.style.display =\n",
              "          google.colab.kernel.accessAllowed ? 'block' : 'none';\n",
              "\n",
              "        async function convertToInteractive(key) {\n",
              "          const element = document.querySelector('#df-7c6be6d4-d03f-49ba-87f4-9cfc13899e2b');\n",
              "          const dataTable =\n",
              "            await google.colab.kernel.invokeFunction('convertToInteractive',\n",
              "                                                     [key], {});\n",
              "          if (!dataTable) return;\n",
              "\n",
              "          const docLinkHtml = 'Like what you see? Visit the ' +\n",
              "            '<a target=\"_blank\" href=https://colab.research.google.com/notebooks/data_table.ipynb>data table notebook</a>'\n",
              "            + ' to learn more about interactive tables.';\n",
              "          element.innerHTML = '';\n",
              "          dataTable['output_type'] = 'display_data';\n",
              "          await google.colab.output.renderOutput(dataTable, element);\n",
              "          const docLink = document.createElement('div');\n",
              "          docLink.innerHTML = docLinkHtml;\n",
              "          element.appendChild(docLink);\n",
              "        }\n",
              "      </script>\n",
              "    </div>\n",
              "  </div>\n",
              "  "
            ]
          },
          "metadata": {},
          "execution_count": 80
        }
      ]
    },
    {
      "cell_type": "code",
      "source": [
        "BFS"
      ],
      "metadata": {
        "colab": {
          "base_uri": "https://localhost:8080/",
          "height": 206
        },
        "id": "Pt72ZNEOx92Z",
        "outputId": "46b4a13f-f425-4537-870a-a27ddc053c55"
      },
      "execution_count": null,
      "outputs": [
        {
          "output_type": "execute_result",
          "data": {
            "text/plain": [
              "          BFS Time\n",
              "1000      0.001033\n",
              "40000     0.026852\n",
              "80000     0.150707\n",
              "200000    0.490990\n",
              "1000000  11.934588"
            ],
            "text/html": [
              "\n",
              "  <div id=\"df-61e77f4b-b30a-46e3-ba17-adc9ba532ab5\">\n",
              "    <div class=\"colab-df-container\">\n",
              "      <div>\n",
              "<style scoped>\n",
              "    .dataframe tbody tr th:only-of-type {\n",
              "        vertical-align: middle;\n",
              "    }\n",
              "\n",
              "    .dataframe tbody tr th {\n",
              "        vertical-align: top;\n",
              "    }\n",
              "\n",
              "    .dataframe thead th {\n",
              "        text-align: right;\n",
              "    }\n",
              "</style>\n",
              "<table border=\"1\" class=\"dataframe\">\n",
              "  <thead>\n",
              "    <tr style=\"text-align: right;\">\n",
              "      <th></th>\n",
              "      <th>BFS Time</th>\n",
              "    </tr>\n",
              "  </thead>\n",
              "  <tbody>\n",
              "    <tr>\n",
              "      <th>1000</th>\n",
              "      <td>0.001033</td>\n",
              "    </tr>\n",
              "    <tr>\n",
              "      <th>40000</th>\n",
              "      <td>0.026852</td>\n",
              "    </tr>\n",
              "    <tr>\n",
              "      <th>80000</th>\n",
              "      <td>0.150707</td>\n",
              "    </tr>\n",
              "    <tr>\n",
              "      <th>200000</th>\n",
              "      <td>0.490990</td>\n",
              "    </tr>\n",
              "    <tr>\n",
              "      <th>1000000</th>\n",
              "      <td>11.934588</td>\n",
              "    </tr>\n",
              "  </tbody>\n",
              "</table>\n",
              "</div>\n",
              "      <button class=\"colab-df-convert\" onclick=\"convertToInteractive('df-61e77f4b-b30a-46e3-ba17-adc9ba532ab5')\"\n",
              "              title=\"Convert this dataframe to an interactive table.\"\n",
              "              style=\"display:none;\">\n",
              "        \n",
              "  <svg xmlns=\"http://www.w3.org/2000/svg\" height=\"24px\"viewBox=\"0 0 24 24\"\n",
              "       width=\"24px\">\n",
              "    <path d=\"M0 0h24v24H0V0z\" fill=\"none\"/>\n",
              "    <path d=\"M18.56 5.44l.94 2.06.94-2.06 2.06-.94-2.06-.94-.94-2.06-.94 2.06-2.06.94zm-11 1L8.5 8.5l.94-2.06 2.06-.94-2.06-.94L8.5 2.5l-.94 2.06-2.06.94zm10 10l.94 2.06.94-2.06 2.06-.94-2.06-.94-.94-2.06-.94 2.06-2.06.94z\"/><path d=\"M17.41 7.96l-1.37-1.37c-.4-.4-.92-.59-1.43-.59-.52 0-1.04.2-1.43.59L10.3 9.45l-7.72 7.72c-.78.78-.78 2.05 0 2.83L4 21.41c.39.39.9.59 1.41.59.51 0 1.02-.2 1.41-.59l7.78-7.78 2.81-2.81c.8-.78.8-2.07 0-2.86zM5.41 20L4 18.59l7.72-7.72 1.47 1.35L5.41 20z\"/>\n",
              "  </svg>\n",
              "      </button>\n",
              "      \n",
              "  <style>\n",
              "    .colab-df-container {\n",
              "      display:flex;\n",
              "      flex-wrap:wrap;\n",
              "      gap: 12px;\n",
              "    }\n",
              "\n",
              "    .colab-df-convert {\n",
              "      background-color: #E8F0FE;\n",
              "      border: none;\n",
              "      border-radius: 50%;\n",
              "      cursor: pointer;\n",
              "      display: none;\n",
              "      fill: #1967D2;\n",
              "      height: 32px;\n",
              "      padding: 0 0 0 0;\n",
              "      width: 32px;\n",
              "    }\n",
              "\n",
              "    .colab-df-convert:hover {\n",
              "      background-color: #E2EBFA;\n",
              "      box-shadow: 0px 1px 2px rgba(60, 64, 67, 0.3), 0px 1px 3px 1px rgba(60, 64, 67, 0.15);\n",
              "      fill: #174EA6;\n",
              "    }\n",
              "\n",
              "    [theme=dark] .colab-df-convert {\n",
              "      background-color: #3B4455;\n",
              "      fill: #D2E3FC;\n",
              "    }\n",
              "\n",
              "    [theme=dark] .colab-df-convert:hover {\n",
              "      background-color: #434B5C;\n",
              "      box-shadow: 0px 1px 3px 1px rgba(0, 0, 0, 0.15);\n",
              "      filter: drop-shadow(0px 1px 2px rgba(0, 0, 0, 0.3));\n",
              "      fill: #FFFFFF;\n",
              "    }\n",
              "  </style>\n",
              "\n",
              "      <script>\n",
              "        const buttonEl =\n",
              "          document.querySelector('#df-61e77f4b-b30a-46e3-ba17-adc9ba532ab5 button.colab-df-convert');\n",
              "        buttonEl.style.display =\n",
              "          google.colab.kernel.accessAllowed ? 'block' : 'none';\n",
              "\n",
              "        async function convertToInteractive(key) {\n",
              "          const element = document.querySelector('#df-61e77f4b-b30a-46e3-ba17-adc9ba532ab5');\n",
              "          const dataTable =\n",
              "            await google.colab.kernel.invokeFunction('convertToInteractive',\n",
              "                                                     [key], {});\n",
              "          if (!dataTable) return;\n",
              "\n",
              "          const docLinkHtml = 'Like what you see? Visit the ' +\n",
              "            '<a target=\"_blank\" href=https://colab.research.google.com/notebooks/data_table.ipynb>data table notebook</a>'\n",
              "            + ' to learn more about interactive tables.';\n",
              "          element.innerHTML = '';\n",
              "          dataTable['output_type'] = 'display_data';\n",
              "          await google.colab.output.renderOutput(dataTable, element);\n",
              "          const docLink = document.createElement('div');\n",
              "          docLink.innerHTML = docLinkHtml;\n",
              "          element.appendChild(docLink);\n",
              "        }\n",
              "      </script>\n",
              "    </div>\n",
              "  </div>\n",
              "  "
            ]
          },
          "metadata": {},
          "execution_count": 81
        }
      ]
    },
    {
      "cell_type": "code",
      "source": [
        "Data = BFS.join(DFS)"
      ],
      "metadata": {
        "id": "IXnKf5QGzF7_"
      },
      "execution_count": null,
      "outputs": []
    },
    {
      "cell_type": "code",
      "source": [
        "Data.plot.bar()"
      ],
      "metadata": {
        "colab": {
          "base_uri": "https://localhost:8080/",
          "height": 316
        },
        "id": "T4uH6dwD0fWo",
        "outputId": "d0eda61a-f911-49ca-c901-aa241df2165a"
      },
      "execution_count": null,
      "outputs": [
        {
          "output_type": "execute_result",
          "data": {
            "text/plain": [
              "<AxesSubplot:>"
            ]
          },
          "metadata": {},
          "execution_count": 93
        },
        {
          "output_type": "display_data",
          "data": {
            "text/plain": [
              "<Figure size 432x288 with 1 Axes>"
            ],
            "image/png": "[encoded data removed]"
          },
          "metadata": {
            "needs_background": "light"
          }
        }
      ]
    },
    {
      "cell_type": "markdown",
      "source": [
        "**TASK 3**"
      ],
      "metadata": {
        "id": "M4RpVngO4DGm"
      }
    },
    {
      "cell_type": "code",
      "source": [
        "!pip install jedi\n",
        "!pip install setuptools==64.0.2\n",
        "!pip install binarytree"
      ],
      "metadata": {
        "id": "1lbAgVmn0ney",
        "colab": {
          "base_uri": "https://localhost:8080/",
          "height": 644
        },
        "outputId": "f600ab48-313a-401b-ad77-7186db4a45cb"
      },
      "execution_count": 1,
      "outputs": [
        {
          "output_type": "stream",
          "name": "stdout",
          "text": [
            "Looking in indexes: https://pypi.org/simple, https://us-python.pkg.dev/colab-wheels/public/simple/\n",
            "Collecting jedi\n",
            "  Downloading jedi-0.18.2-py2.py3-none-any.whl (1.6 MB)\n",
            "\u001b[2K     \u001b[90m━━━━━━━━━━━━━━━━━━━━━━━━━━━━━━━━━━━━━━━━\u001b[0m \u001b[32m1.6/1.6 MB\u001b[0m \u001b[31m21.9 MB/s\u001b[0m eta \u001b[36m0:00:00\u001b[0m\n",
            "\u001b[?25hRequirement already satisfied: parso<0.9.0,>=0.8.0 in /usr/local/lib/python3.8/dist-packages (from jedi) (0.8.3)\n",
            "Installing collected packages: jedi\n",
            "Successfully installed jedi-0.18.2\n",
            "Looking in indexes: https://pypi.org/simple, https://us-python.pkg.dev/colab-wheels/public/simple/\n",
            "Collecting setuptools==64.0.2\n",
            "  Downloading setuptools-64.0.2-py3-none-any.whl (1.2 MB)\n",
            "\u001b[2K     \u001b[90m━━━━━━━━━━━━━━━━━━━━━━━━━━━━━━━━━━━━━━━━\u001b[0m \u001b[32m1.2/1.2 MB\u001b[0m \u001b[31m14.4 MB/s\u001b[0m eta \u001b[36m0:00:00\u001b[0m\n",
            "\u001b[?25hInstalling collected packages: setuptools\n",
            "  Attempting uninstall: setuptools\n",
            "    Found existing installation: setuptools 57.4.0\n",
            "    Uninstalling setuptools-57.4.0:\n",
            "      Successfully uninstalled setuptools-57.4.0\n",
            "Successfully installed setuptools-64.0.2\n"
          ]
        },
        {
          "output_type": "display_data",
          "data": {
            "application/vnd.colab-display-data+json": {
              "pip_warning": {
                "packages": [
                  "pkg_resources"
                ]
              }
            }
          },
          "metadata": {}
        },
        {
          "output_type": "stream",
          "name": "stdout",
          "text": [
            "Looking in indexes: https://pypi.org/simple, https://us-python.pkg.dev/colab-wheels/public/simple/\n",
            "Collecting binarytree\n",
            "  Downloading binarytree-6.5.1-py3-none-any.whl (18 kB)\n",
            "Collecting setuptools-scm[toml]>=5.0.1\n",
            "  Downloading setuptools_scm-7.1.0-py3-none-any.whl (43 kB)\n",
            "\u001b[2K     \u001b[90m━━━━━━━━━━━━━━━━━━━━━━━━━━━━━━━━━━━━━━━━\u001b[0m \u001b[32m43.8/43.8 KB\u001b[0m \u001b[31m3.6 MB/s\u001b[0m eta \u001b[36m0:00:00\u001b[0m\n",
            "\u001b[?25hRequirement already satisfied: setuptools>=60.8.2 in /usr/local/lib/python3.8/dist-packages (from binarytree) (64.0.2)\n",
            "Requirement already satisfied: graphviz in /usr/local/lib/python3.8/dist-packages (from binarytree) (0.10.1)\n",
            "Requirement already satisfied: tomli>=1.0.0 in /usr/local/lib/python3.8/dist-packages (from setuptools-scm[toml]>=5.0.1->binarytree) (2.0.1)\n",
            "Requirement already satisfied: typing-extensions in /usr/local/lib/python3.8/dist-packages (from setuptools-scm[toml]>=5.0.1->binarytree) (4.5.0)\n",
            "Requirement already satisfied: packaging>=20.0 in /usr/local/lib/python3.8/dist-packages (from setuptools-scm[toml]>=5.0.1->binarytree) (23.0)\n",
            "Installing collected packages: setuptools-scm, binarytree\n",
            "Successfully installed binarytree-6.5.1 setuptools-scm-7.1.0\n"
          ]
        }
      ]
    },
    {
      "cell_type": "code",
      "source": [
        "from binarytree import build\n",
        "x=[51,\n",
        " 43,\n",
        " 83,\n",
        " 20,\n",
        " None,\n",
        " 58,\n",
        " 93,\n",
        " 9,\n",
        " 37,\n",
        " None,\n",
        " None,\n",
        " 51,\n",
        " None,\n",
        " 88,\n",
        " None,\n",
        " None,\n",
        " 16,\n",
        " 36,\n",
        " None,\n",
        " None,\n",
        " None,\n",
        " None,\n",
        " None,\n",
        " None,\n",
        " None,\n",
        " None,\n",
        " None,\n",
        " None,\n",
        " None,\n",
        " None,\n",
        " None,\n",
        " None,\n",
        " None,\n",
        " None,\n",
        " None,\n",
        " 33,\n",
        " None,\n",
        " None,\n",
        " None,\n",
        " None,\n",
        " None,\n",
        " None,\n",
        " None,\n",
        " None,\n",
        " None,\n",
        " None,\n",
        " None,\n",
        " None,\n",
        " None,\n",
        " None,\n",
        " None,\n",
        " None,\n",
        " None,\n",
        " None,\n",
        " None,\n",
        " None,\n",
        " None,\n",
        " None,\n",
        " None,\n",
        " None,\n",
        " None,\n",
        " None,\n",
        " None,\n",
        " None,\n",
        " None,\n",
        " None,\n",
        " None,\n",
        " None,\n",
        " None,\n",
        " None,\n",
        " None,\n",
        " 31,\n",
        " 34]\n",
        "root=build(x)"
      ],
      "metadata": {
        "id": "Hql9xH7O_jbj"
      },
      "execution_count": 20,
      "outputs": []
    },
    {
      "cell_type": "code",
      "source": [
        "root"
      ],
      "metadata": {
        "colab": {
          "base_uri": "https://localhost:8080/",
          "height": 666
        },
        "id": "7UhRxrvYB8D6",
        "outputId": "fdbf0a82-d907-4368-cc62-d2c64a14cdde"
      },
      "execution_count": 21,
      "outputs": [
        {
          "output_type": "execute_result",
          "data": {
            "text/plain": [
              "Node(51)"
            ],
            "image/svg+xml": "<?xml version=\"1.0\" encoding=\"UTF-8\" standalone=\"no\"?>\n<!DOCTYPE svg PUBLIC \"-//W3C//DTD SVG 1.1//EN\"\n \"http://www.w3.org/Graphics/SVG/1.1/DTD/svg11.dtd\">\n<!-- Generated by graphviz version 2.43.0 (0)\n -->\n<!-- Title: %3 Pages: 1 -->\n<svg width=\"379pt\" height=\"483pt\"\n viewBox=\"0.00 0.00 379.00 483.00\" xmlns=\"http://www.w3.org/2000/svg\" xmlns:xlink=\"http://www.w3.org/1999/xlink\">\n<g id=\"graph0\" class=\"graph\" transform=\"scale(1 1) rotate(0) translate(4 479)\">\n<title>%3</title>\n<polygon fill=\"white\" stroke=\"transparent\" points=\"-4,4 -4,-479 375,-479 375,4 -4,4\"/>\n<!-- 140183256238400 -->\n<g id=\"node1\" class=\"node\">\n<title>140183256238400</title>\n<path fill=\"lightgray\" stroke=\"lightgray\" d=\"M193,-438.5C193,-438.5 239,-438.5 239,-438.5 245,-438.5 251,-444.5 251,-450.5 251,-450.5 251,-462.5 251,-462.5 251,-468.5 245,-474.5 239,-474.5 239,-474.5 193,-474.5 193,-474.5 187,-474.5 181,-468.5 181,-462.5 181,-462.5 181,-450.5 181,-450.5 181,-444.5 187,-438.5 193,-438.5\"/>\n<text text-anchor=\"middle\" x=\"191\" y=\"-452.8\" font-family=\"Times,serif\" font-size=\"14.00\"> </text>\n<polyline fill=\"none\" stroke=\"lightgray\" points=\"201,-438.5 201,-474.5 \"/>\n<text text-anchor=\"middle\" x=\"216\" y=\"-452.8\" font-family=\"Times,serif\" font-size=\"14.00\">51</text>\n<polyline fill=\"none\" stroke=\"lightgray\" points=\"231,-438.5 231,-474.5 \"/>\n<text text-anchor=\"middle\" x=\"241\" y=\"-452.8\" font-family=\"Times,serif\" font-size=\"14.00\"> </text>\n</g>\n<!-- 140183256236720 -->\n<g id=\"node2\" class=\"node\">\n<title>140183256236720</title>\n<path fill=\"lightgray\" stroke=\"lightgray\" d=\"M137,-365.5C137,-365.5 183,-365.5 183,-365.5 189,-365.5 195,-371.5 195,-377.5 195,-377.5 195,-389.5 195,-389.5 195,-395.5 189,-401.5 183,-401.5 183,-401.5 137,-401.5 137,-401.5 131,-401.5 125,-395.5 125,-389.5 125,-389.5 125,-377.5 125,-377.5 125,-371.5 131,-365.5 137,-365.5\"/>\n<text text-anchor=\"middle\" x=\"135\" y=\"-379.8\" font-family=\"Times,serif\" font-size=\"14.00\"> </text>\n<polyline fill=\"none\" stroke=\"lightgray\" points=\"145,-365.5 145,-401.5 \"/>\n<text text-anchor=\"middle\" x=\"160\" y=\"-379.8\" font-family=\"Times,serif\" font-size=\"14.00\">43</text>\n<polyline fill=\"none\" stroke=\"lightgray\" points=\"175,-365.5 175,-401.5 \"/>\n<text text-anchor=\"middle\" x=\"185\" y=\"-379.8\" font-family=\"Times,serif\" font-size=\"14.00\"> </text>\n</g>\n<!-- 140183256238400&#45;&gt;140183256236720 -->\n<g id=\"edge1\" class=\"edge\">\n<title>140183256238400:l&#45;&gt;140183256236720:v</title>\n<path fill=\"none\" stroke=\"black\" d=\"M191,-438C191,-421.01 170.93,-421.72 163.09,-411.65\"/>\n<polygon fill=\"black\" stroke=\"black\" points=\"166.38,-410.46 160,-402 159.71,-412.59 166.38,-410.46\"/>\n</g>\n<!-- 140183256237632 -->\n<g id=\"node3\" class=\"node\">\n<title>140183256237632</title>\n<path fill=\"lightgray\" stroke=\"lightgray\" d=\"M250,-365.5C250,-365.5 296,-365.5 296,-365.5 302,-365.5 308,-371.5 308,-377.5 308,-377.5 308,-389.5 308,-389.5 308,-395.5 302,-401.5 296,-401.5 296,-401.5 250,-401.5 250,-401.5 244,-401.5 238,-395.5 238,-389.5 238,-389.5 238,-377.5 238,-377.5 238,-371.5 244,-365.5 250,-365.5\"/>\n<text text-anchor=\"middle\" x=\"248\" y=\"-379.8\" font-family=\"Times,serif\" font-size=\"14.00\"> </text>\n<polyline fill=\"none\" stroke=\"lightgray\" points=\"258,-365.5 258,-401.5 \"/>\n<text text-anchor=\"middle\" x=\"273\" y=\"-379.8\" font-family=\"Times,serif\" font-size=\"14.00\">83</text>\n<polyline fill=\"none\" stroke=\"lightgray\" points=\"288,-365.5 288,-401.5 \"/>\n<text text-anchor=\"middle\" x=\"298\" y=\"-379.8\" font-family=\"Times,serif\" font-size=\"14.00\"> </text>\n</g>\n<!-- 140183256238400&#45;&gt;140183256237632 -->\n<g id=\"edge2\" class=\"edge\">\n<title>140183256238400:r&#45;&gt;140183256237632:v</title>\n<path fill=\"none\" stroke=\"black\" d=\"M241,-438C241,-420.77 261.72,-421.82 269.81,-411.73\"/>\n<polygon fill=\"black\" stroke=\"black\" points=\"273.22,-412.59 273,-402 266.56,-410.42 273.22,-412.59\"/>\n</g>\n<!-- 140183256236288 -->\n<g id=\"node4\" class=\"node\">\n<title>140183256236288</title>\n<path fill=\"lightgray\" stroke=\"lightgray\" d=\"M87,-292.5C87,-292.5 133,-292.5 133,-292.5 139,-292.5 145,-298.5 145,-304.5 145,-304.5 145,-316.5 145,-316.5 145,-322.5 139,-328.5 133,-328.5 133,-328.5 87,-328.5 87,-328.5 81,-328.5 75,-322.5 75,-316.5 75,-316.5 75,-304.5 75,-304.5 75,-298.5 81,-292.5 87,-292.5\"/>\n<text text-anchor=\"middle\" x=\"85\" y=\"-306.8\" font-family=\"Times,serif\" font-size=\"14.00\"> </text>\n<polyline fill=\"none\" stroke=\"lightgray\" points=\"95,-292.5 95,-328.5 \"/>\n<text text-anchor=\"middle\" x=\"110\" y=\"-306.8\" font-family=\"Times,serif\" font-size=\"14.00\">20</text>\n<polyline fill=\"none\" stroke=\"lightgray\" points=\"125,-292.5 125,-328.5 \"/>\n<text text-anchor=\"middle\" x=\"135\" y=\"-306.8\" font-family=\"Times,serif\" font-size=\"14.00\"> </text>\n</g>\n<!-- 140183256236720&#45;&gt;140183256236288 -->\n<g id=\"edge3\" class=\"edge\">\n<title>140183256236720:l&#45;&gt;140183256236288:v</title>\n<path fill=\"none\" stroke=\"black\" d=\"M135,-365C135,-349.63 119.43,-348.23 112.87,-338.75\"/>\n<polygon fill=\"black\" stroke=\"black\" points=\"116.18,-337.61 110,-329 109.46,-339.58 116.18,-337.61\"/>\n</g>\n<!-- 140183256237968 -->\n<g id=\"node5\" class=\"node\">\n<title>140183256237968</title>\n<path fill=\"lightgray\" stroke=\"lightgray\" d=\"M225,-292.5C225,-292.5 271,-292.5 271,-292.5 277,-292.5 283,-298.5 283,-304.5 283,-304.5 283,-316.5 283,-316.5 283,-322.5 277,-328.5 271,-328.5 271,-328.5 225,-328.5 225,-328.5 219,-328.5 213,-322.5 213,-316.5 213,-316.5 213,-304.5 213,-304.5 213,-298.5 219,-292.5 225,-292.5\"/>\n<text text-anchor=\"middle\" x=\"223\" y=\"-306.8\" font-family=\"Times,serif\" font-size=\"14.00\"> </text>\n<polyline fill=\"none\" stroke=\"lightgray\" points=\"233,-292.5 233,-328.5 \"/>\n<text text-anchor=\"middle\" x=\"248\" y=\"-306.8\" font-family=\"Times,serif\" font-size=\"14.00\">58</text>\n<polyline fill=\"none\" stroke=\"lightgray\" points=\"263,-292.5 263,-328.5 \"/>\n<text text-anchor=\"middle\" x=\"273\" y=\"-306.8\" font-family=\"Times,serif\" font-size=\"14.00\"> </text>\n</g>\n<!-- 140183256237632&#45;&gt;140183256237968 -->\n<g id=\"edge4\" class=\"edge\">\n<title>140183256237632:l&#45;&gt;140183256237968:v</title>\n<path fill=\"none\" stroke=\"black\" d=\"M248,-365C248,-353 248,-347.75 248,-339.12\"/>\n<polygon fill=\"black\" stroke=\"black\" points=\"251.5,-339 248,-329 244.5,-339 251.5,-339\"/>\n</g>\n<!-- 140183256237008 -->\n<g id=\"node6\" class=\"node\">\n<title>140183256237008</title>\n<path fill=\"lightgray\" stroke=\"lightgray\" d=\"M313,-292.5C313,-292.5 359,-292.5 359,-292.5 365,-292.5 371,-298.5 371,-304.5 371,-304.5 371,-316.5 371,-316.5 371,-322.5 365,-328.5 359,-328.5 359,-328.5 313,-328.5 313,-328.5 307,-328.5 301,-322.5 301,-316.5 301,-316.5 301,-304.5 301,-304.5 301,-298.5 307,-292.5 313,-292.5\"/>\n<text text-anchor=\"middle\" x=\"311\" y=\"-306.8\" font-family=\"Times,serif\" font-size=\"14.00\"> </text>\n<polyline fill=\"none\" stroke=\"lightgray\" points=\"321,-292.5 321,-328.5 \"/>\n<text text-anchor=\"middle\" x=\"336\" y=\"-306.8\" font-family=\"Times,serif\" font-size=\"14.00\">93</text>\n<polyline fill=\"none\" stroke=\"lightgray\" points=\"351,-292.5 351,-328.5 \"/>\n<text text-anchor=\"middle\" x=\"361\" y=\"-306.8\" font-family=\"Times,serif\" font-size=\"14.00\"> </text>\n</g>\n<!-- 140183256237632&#45;&gt;140183256237008 -->\n<g id=\"edge5\" class=\"edge\">\n<title>140183256237632:r&#45;&gt;140183256237008:v</title>\n<path fill=\"none\" stroke=\"black\" d=\"M298,-365C298,-345.92 323.57,-349.57 332.76,-338.66\"/>\n<polygon fill=\"black\" stroke=\"black\" points=\"336.14,-339.59 336,-329 329.5,-337.37 336.14,-339.59\"/>\n</g>\n<!-- 140183256239792 -->\n<g id=\"node7\" class=\"node\">\n<title>140183256239792</title>\n<path fill=\"lightgray\" stroke=\"lightgray\" d=\"M18.5,-219.5C18.5,-219.5 57.5,-219.5 57.5,-219.5 63.5,-219.5 69.5,-225.5 69.5,-231.5 69.5,-231.5 69.5,-243.5 69.5,-243.5 69.5,-249.5 63.5,-255.5 57.5,-255.5 57.5,-255.5 18.5,-255.5 18.5,-255.5 12.5,-255.5 6.5,-249.5 6.5,-243.5 6.5,-243.5 6.5,-231.5 6.5,-231.5 6.5,-225.5 12.5,-219.5 18.5,-219.5\"/>\n<text text-anchor=\"middle\" x=\"16.5\" y=\"-233.8\" font-family=\"Times,serif\" font-size=\"14.00\"> </text>\n<polyline fill=\"none\" stroke=\"lightgray\" points=\"26.5,-219.5 26.5,-255.5 \"/>\n<text text-anchor=\"middle\" x=\"38\" y=\"-233.8\" font-family=\"Times,serif\" font-size=\"14.00\">9</text>\n<polyline fill=\"none\" stroke=\"lightgray\" points=\"49.5,-219.5 49.5,-255.5 \"/>\n<text text-anchor=\"middle\" x=\"59.5\" y=\"-233.8\" font-family=\"Times,serif\" font-size=\"14.00\"> </text>\n</g>\n<!-- 140183256236288&#45;&gt;140183256239792 -->\n<g id=\"edge6\" class=\"edge\">\n<title>140183256236288:l&#45;&gt;140183256239792:v</title>\n<path fill=\"none\" stroke=\"black\" d=\"M85,-292C85,-269.8 51.54,-278.17 41.08,-265.52\"/>\n<polygon fill=\"black\" stroke=\"black\" points=\"44.41,-264.43 38,-256 37.75,-266.59 44.41,-264.43\"/>\n</g>\n<!-- 140183256239744 -->\n<g id=\"node8\" class=\"node\">\n<title>140183256239744</title>\n<path fill=\"lightgray\" stroke=\"lightgray\" d=\"M112,-219.5C112,-219.5 158,-219.5 158,-219.5 164,-219.5 170,-225.5 170,-231.5 170,-231.5 170,-243.5 170,-243.5 170,-249.5 164,-255.5 158,-255.5 158,-255.5 112,-255.5 112,-255.5 106,-255.5 100,-249.5 100,-243.5 100,-243.5 100,-231.5 100,-231.5 100,-225.5 106,-219.5 112,-219.5\"/>\n<text text-anchor=\"middle\" x=\"110\" y=\"-233.8\" font-family=\"Times,serif\" font-size=\"14.00\"> </text>\n<polyline fill=\"none\" stroke=\"lightgray\" points=\"120,-219.5 120,-255.5 \"/>\n<text text-anchor=\"middle\" x=\"135\" y=\"-233.8\" font-family=\"Times,serif\" font-size=\"14.00\">37</text>\n<polyline fill=\"none\" stroke=\"lightgray\" points=\"150,-219.5 150,-255.5 \"/>\n<text text-anchor=\"middle\" x=\"160\" y=\"-233.8\" font-family=\"Times,serif\" font-size=\"14.00\"> </text>\n</g>\n<!-- 140183256236288&#45;&gt;140183256239744 -->\n<g id=\"edge7\" class=\"edge\">\n<title>140183256236288:r&#45;&gt;140183256239744:v</title>\n<path fill=\"none\" stroke=\"black\" d=\"M135,-292C135,-280 135,-274.75 135,-266.12\"/>\n<polygon fill=\"black\" stroke=\"black\" points=\"138.5,-266 135,-256 131.5,-266 138.5,-266\"/>\n</g>\n<!-- 140183256237056 -->\n<g id=\"node9\" class=\"node\">\n<title>140183256237056</title>\n<path fill=\"lightgray\" stroke=\"lightgray\" d=\"M200,-219.5C200,-219.5 246,-219.5 246,-219.5 252,-219.5 258,-225.5 258,-231.5 258,-231.5 258,-243.5 258,-243.5 258,-249.5 252,-255.5 246,-255.5 246,-255.5 200,-255.5 200,-255.5 194,-255.5 188,-249.5 188,-243.5 188,-243.5 188,-231.5 188,-231.5 188,-225.5 194,-219.5 200,-219.5\"/>\n<text text-anchor=\"middle\" x=\"198\" y=\"-233.8\" font-family=\"Times,serif\" font-size=\"14.00\"> </text>\n<polyline fill=\"none\" stroke=\"lightgray\" points=\"208,-219.5 208,-255.5 \"/>\n<text text-anchor=\"middle\" x=\"223\" y=\"-233.8\" font-family=\"Times,serif\" font-size=\"14.00\">51</text>\n<polyline fill=\"none\" stroke=\"lightgray\" points=\"238,-219.5 238,-255.5 \"/>\n<text text-anchor=\"middle\" x=\"248\" y=\"-233.8\" font-family=\"Times,serif\" font-size=\"14.00\"> </text>\n</g>\n<!-- 140183256237968&#45;&gt;140183256237056 -->\n<g id=\"edge8\" class=\"edge\">\n<title>140183256237968:l&#45;&gt;140183256237056:v</title>\n<path fill=\"none\" stroke=\"black\" d=\"M223,-292C223,-280 223,-274.75 223,-266.12\"/>\n<polygon fill=\"black\" stroke=\"black\" points=\"226.5,-266 223,-256 219.5,-266 226.5,-266\"/>\n</g>\n<!-- 140183256238880 -->\n<g id=\"node10\" class=\"node\">\n<title>140183256238880</title>\n<path fill=\"lightgray\" stroke=\"lightgray\" d=\"M288,-219.5C288,-219.5 334,-219.5 334,-219.5 340,-219.5 346,-225.5 346,-231.5 346,-231.5 346,-243.5 346,-243.5 346,-249.5 340,-255.5 334,-255.5 334,-255.5 288,-255.5 288,-255.5 282,-255.5 276,-249.5 276,-243.5 276,-243.5 276,-231.5 276,-231.5 276,-225.5 282,-219.5 288,-219.5\"/>\n<text text-anchor=\"middle\" x=\"286\" y=\"-233.8\" font-family=\"Times,serif\" font-size=\"14.00\"> </text>\n<polyline fill=\"none\" stroke=\"lightgray\" points=\"296,-219.5 296,-255.5 \"/>\n<text text-anchor=\"middle\" x=\"311\" y=\"-233.8\" font-family=\"Times,serif\" font-size=\"14.00\">88</text>\n<polyline fill=\"none\" stroke=\"lightgray\" points=\"326,-219.5 326,-255.5 \"/>\n<text text-anchor=\"middle\" x=\"336\" y=\"-233.8\" font-family=\"Times,serif\" font-size=\"14.00\"> </text>\n</g>\n<!-- 140183256237008&#45;&gt;140183256238880 -->\n<g id=\"edge9\" class=\"edge\">\n<title>140183256237008:l&#45;&gt;140183256238880:v</title>\n<path fill=\"none\" stroke=\"black\" d=\"M311,-292C311,-280 311,-274.75 311,-266.12\"/>\n<polygon fill=\"black\" stroke=\"black\" points=\"314.5,-266 311,-256 307.5,-266 314.5,-266\"/>\n</g>\n<!-- 140183256237776 -->\n<g id=\"node11\" class=\"node\">\n<title>140183256237776</title>\n<path fill=\"lightgray\" stroke=\"lightgray\" d=\"M12,-146.5C12,-146.5 58,-146.5 58,-146.5 64,-146.5 70,-152.5 70,-158.5 70,-158.5 70,-170.5 70,-170.5 70,-176.5 64,-182.5 58,-182.5 58,-182.5 12,-182.5 12,-182.5 6,-182.5 0,-176.5 0,-170.5 0,-170.5 0,-158.5 0,-158.5 0,-152.5 6,-146.5 12,-146.5\"/>\n<text text-anchor=\"middle\" x=\"10\" y=\"-160.8\" font-family=\"Times,serif\" font-size=\"14.00\"> </text>\n<polyline fill=\"none\" stroke=\"lightgray\" points=\"20,-146.5 20,-182.5 \"/>\n<text text-anchor=\"middle\" x=\"35\" y=\"-160.8\" font-family=\"Times,serif\" font-size=\"14.00\">16</text>\n<polyline fill=\"none\" stroke=\"lightgray\" points=\"50,-146.5 50,-182.5 \"/>\n<text text-anchor=\"middle\" x=\"60\" y=\"-160.8\" font-family=\"Times,serif\" font-size=\"14.00\"> </text>\n</g>\n<!-- 140183256239792&#45;&gt;140183256237776 -->\n<g id=\"edge10\" class=\"edge\">\n<title>140183256239792:r&#45;&gt;140183256237776:v</title>\n<path fill=\"none\" stroke=\"black\" d=\"M60,-219C60,-203.63 44.43,-202.23 37.87,-192.75\"/>\n<polygon fill=\"black\" stroke=\"black\" points=\"41.18,-191.61 35,-183 34.46,-193.58 41.18,-191.61\"/>\n</g>\n<!-- 140183256239840 -->\n<g id=\"node12\" class=\"node\">\n<title>140183256239840</title>\n<path fill=\"lightgray\" stroke=\"lightgray\" d=\"M100,-146.5C100,-146.5 146,-146.5 146,-146.5 152,-146.5 158,-152.5 158,-158.5 158,-158.5 158,-170.5 158,-170.5 158,-176.5 152,-182.5 146,-182.5 146,-182.5 100,-182.5 100,-182.5 94,-182.5 88,-176.5 88,-170.5 88,-170.5 88,-158.5 88,-158.5 88,-152.5 94,-146.5 100,-146.5\"/>\n<text text-anchor=\"middle\" x=\"98\" y=\"-160.8\" font-family=\"Times,serif\" font-size=\"14.00\"> </text>\n<polyline fill=\"none\" stroke=\"lightgray\" points=\"108,-146.5 108,-182.5 \"/>\n<text text-anchor=\"middle\" x=\"123\" y=\"-160.8\" font-family=\"Times,serif\" font-size=\"14.00\">36</text>\n<polyline fill=\"none\" stroke=\"lightgray\" points=\"138,-146.5 138,-182.5 \"/>\n<text text-anchor=\"middle\" x=\"148\" y=\"-160.8\" font-family=\"Times,serif\" font-size=\"14.00\"> </text>\n</g>\n<!-- 140183256239744&#45;&gt;140183256239840 -->\n<g id=\"edge11\" class=\"edge\">\n<title>140183256239744:l&#45;&gt;140183256239840:v</title>\n<path fill=\"none\" stroke=\"black\" d=\"M110,-219C110,-205.98 117.62,-201.76 121.19,-192.87\"/>\n<polygon fill=\"black\" stroke=\"black\" points=\"124.64,-193.47 123,-183 117.76,-192.21 124.64,-193.47\"/>\n</g>\n<!-- 140183256236768 -->\n<g id=\"node13\" class=\"node\">\n<title>140183256236768</title>\n<path fill=\"lightgray\" stroke=\"lightgray\" d=\"M75,-73.5C75,-73.5 121,-73.5 121,-73.5 127,-73.5 133,-79.5 133,-85.5 133,-85.5 133,-97.5 133,-97.5 133,-103.5 127,-109.5 121,-109.5 121,-109.5 75,-109.5 75,-109.5 69,-109.5 63,-103.5 63,-97.5 63,-97.5 63,-85.5 63,-85.5 63,-79.5 69,-73.5 75,-73.5\"/>\n<text text-anchor=\"middle\" x=\"73\" y=\"-87.8\" font-family=\"Times,serif\" font-size=\"14.00\"> </text>\n<polyline fill=\"none\" stroke=\"lightgray\" points=\"83,-73.5 83,-109.5 \"/>\n<text text-anchor=\"middle\" x=\"98\" y=\"-87.8\" font-family=\"Times,serif\" font-size=\"14.00\">33</text>\n<polyline fill=\"none\" stroke=\"lightgray\" points=\"113,-73.5 113,-109.5 \"/>\n<text text-anchor=\"middle\" x=\"123\" y=\"-87.8\" font-family=\"Times,serif\" font-size=\"14.00\"> </text>\n</g>\n<!-- 140183256239840&#45;&gt;140183256236768 -->\n<g id=\"edge12\" class=\"edge\">\n<title>140183256239840:l&#45;&gt;140183256236768:v</title>\n<path fill=\"none\" stroke=\"black\" d=\"M98,-146C98,-134 98,-128.75 98,-120.12\"/>\n<polygon fill=\"black\" stroke=\"black\" points=\"101.5,-120 98,-110 94.5,-120 101.5,-120\"/>\n</g>\n<!-- 140183256238304 -->\n<g id=\"node14\" class=\"node\">\n<title>140183256238304</title>\n<path fill=\"lightgray\" stroke=\"lightgray\" d=\"M31,-0.5C31,-0.5 77,-0.5 77,-0.5 83,-0.5 89,-6.5 89,-12.5 89,-12.5 89,-24.5 89,-24.5 89,-30.5 83,-36.5 77,-36.5 77,-36.5 31,-36.5 31,-36.5 25,-36.5 19,-30.5 19,-24.5 19,-24.5 19,-12.5 19,-12.5 19,-6.5 25,-0.5 31,-0.5\"/>\n<text text-anchor=\"middle\" x=\"29\" y=\"-14.8\" font-family=\"Times,serif\" font-size=\"14.00\"> </text>\n<polyline fill=\"none\" stroke=\"lightgray\" points=\"39,-0.5 39,-36.5 \"/>\n<text text-anchor=\"middle\" x=\"54\" y=\"-14.8\" font-family=\"Times,serif\" font-size=\"14.00\">31</text>\n<polyline fill=\"none\" stroke=\"lightgray\" points=\"69,-0.5 69,-36.5 \"/>\n<text text-anchor=\"middle\" x=\"79\" y=\"-14.8\" font-family=\"Times,serif\" font-size=\"14.00\"> </text>\n</g>\n<!-- 140183256236768&#45;&gt;140183256238304 -->\n<g id=\"edge13\" class=\"edge\">\n<title>140183256236768:l&#45;&gt;140183256238304:v</title>\n<path fill=\"none\" stroke=\"black\" d=\"M73,-73C73,-59.01 61.63,-55.95 56.48,-46.91\"/>\n<polygon fill=\"black\" stroke=\"black\" points=\"59.83,-45.85 54,-37 53.04,-47.55 59.83,-45.85\"/>\n</g>\n<!-- 140183256238688 -->\n<g id=\"node15\" class=\"node\">\n<title>140183256238688</title>\n<path fill=\"lightgray\" stroke=\"lightgray\" d=\"M119,-0.5C119,-0.5 165,-0.5 165,-0.5 171,-0.5 177,-6.5 177,-12.5 177,-12.5 177,-24.5 177,-24.5 177,-30.5 171,-36.5 165,-36.5 165,-36.5 119,-36.5 119,-36.5 113,-36.5 107,-30.5 107,-24.5 107,-24.5 107,-12.5 107,-12.5 107,-6.5 113,-0.5 119,-0.5\"/>\n<text text-anchor=\"middle\" x=\"117\" y=\"-14.8\" font-family=\"Times,serif\" font-size=\"14.00\"> </text>\n<polyline fill=\"none\" stroke=\"lightgray\" points=\"127,-0.5 127,-36.5 \"/>\n<text text-anchor=\"middle\" x=\"142\" y=\"-14.8\" font-family=\"Times,serif\" font-size=\"14.00\">34</text>\n<polyline fill=\"none\" stroke=\"lightgray\" points=\"157,-0.5 157,-36.5 \"/>\n<text text-anchor=\"middle\" x=\"167\" y=\"-14.8\" font-family=\"Times,serif\" font-size=\"14.00\"> </text>\n</g>\n<!-- 140183256236768&#45;&gt;140183256238688 -->\n<g id=\"edge14\" class=\"edge\">\n<title>140183256236768:r&#45;&gt;140183256238688:v</title>\n<path fill=\"none\" stroke=\"black\" d=\"M123,-73C123,-59.01 134.37,-55.95 139.52,-46.91\"/>\n<polygon fill=\"black\" stroke=\"black\" points=\"142.96,-47.55 142,-37 136.17,-45.85 142.96,-47.55\"/>\n</g>\n</g>\n</svg>\n"
          },
          "metadata": {},
          "execution_count": 21
        }
      ]
    },
    {
      "cell_type": "code",
      "source": [
        "!pip install anytree"
      ],
      "metadata": {
        "colab": {
          "base_uri": "https://localhost:8080/"
        },
        "id": "clA3uQLO7oBE",
        "outputId": "6f1ad8c0-4334-4254-d61a-e3c5b42b028f"
      },
      "execution_count": 6,
      "outputs": [
        {
          "output_type": "stream",
          "name": "stdout",
          "text": [
            "Looking in indexes: https://pypi.org/simple, https://us-python.pkg.dev/colab-wheels/public/simple/\n",
            "Collecting anytree\n",
            "  Downloading anytree-2.8.0-py2.py3-none-any.whl (41 kB)\n",
            "\u001b[2K     \u001b[90m━━━━━━━━━━━━━━━━━━━━━━━━━━━━━━━━━━━━━━━━\u001b[0m \u001b[32m41.7/41.7 KB\u001b[0m \u001b[31m2.5 MB/s\u001b[0m eta \u001b[36m0:00:00\u001b[0m\n",
            "\u001b[?25hRequirement already satisfied: six>=1.9.0 in /usr/local/lib/python3.8/dist-packages (from anytree) (1.15.0)\n",
            "Installing collected packages: anytree\n",
            "Successfully installed anytree-2.8.0\n"
          ]
        }
      ]
    },
    {
      "cell_type": "code",
      "source": [
        "from anytree import Node, RenderTree\n",
        "\n",
        "# Create the nodes of the tree\n",
        "root = Node(51)\n",
        "n1 = Node(43, parent=root)\n",
        "n2 = Node(83, parent=root)\n",
        "n3 = Node(20, parent=n1)\n",
        "n4 = Node(58, parent=n2)\n",
        "n5 = Node(93, parent=n2)\n",
        "n6 = Node(9, parent=n3)\n",
        "n7 = Node(37, parent=n3)\n",
        "n8 = Node(16, parent=n6)\n",
        "n9 = Node(36, parent=n7)\n",
        "n10 = Node(88, parent=n5)\n",
        "\n",
        "# Print the tree\n",
        "for pre, _, node in RenderTree(root):\n",
        "    print(\"%s%s\" % (pre, node.name))\n"
      ],
      "metadata": {
        "colab": {
          "base_uri": "https://localhost:8080/"
        },
        "id": "o6ZX-z0895DU",
        "outputId": "4a1358ca-f736-4284-b9db-844f2aa92a4d"
      },
      "execution_count": 22,
      "outputs": [
        {
          "output_type": "stream",
          "name": "stdout",
          "text": [
            "51\n",
            "├── 43\n",
            "│   └── 20\n",
            "│       ├── 9\n",
            "│       │   └── 16\n",
            "│       └── 37\n",
            "│           └── 36\n",
            "└── 83\n",
            "    ├── 58\n",
            "    └── 93\n",
            "        └── 88\n"
          ]
        }
      ]
    },
    {
      "cell_type": "code",
      "source": [
        "from anytree.exporter import DotExporter\n",
        "DotExporter(root).to_picture(\"udo.png\")\n"
      ],
      "metadata": {
        "id": "3AGt_xfg-Frt"
      },
      "execution_count": 23,
      "outputs": []
    },
    {
      "cell_type": "code",
      "source": [
        "!pip install treelib"
      ],
      "metadata": {
        "colab": {
          "base_uri": "https://localhost:8080/"
        },
        "id": "zVL6HH7AHDI4",
        "outputId": "6cc568aa-a3cb-4686-f561-447931f50caa"
      },
      "execution_count": 25,
      "outputs": [
        {
          "output_type": "stream",
          "name": "stdout",
          "text": [
            "Looking in indexes: https://pypi.org/simple, https://us-python.pkg.dev/colab-wheels/public/simple/\n",
            "Collecting treelib\n",
            "  Downloading treelib-1.6.1.tar.gz (24 kB)\n",
            "  Preparing metadata (setup.py) ... \u001b[?25l\u001b[?25hdone\n",
            "Requirement already satisfied: future in /usr/local/lib/python3.8/dist-packages (from treelib) (0.16.0)\n",
            "Building wheels for collected packages: treelib\n",
            "  Building wheel for treelib (setup.py) ... \u001b[?25l\u001b[?25hdone\n",
            "  Created wheel for treelib: filename=treelib-1.6.1-py3-none-any.whl size=18368 sha256=0753b8782c31f9e2b93a7889383ef8401938f8a221044c87c753e02e4faf3c83\n",
            "  Stored in directory: /root/.cache/pip/wheels/71/df/8b/6b005e3bb9b275c24dfc392cda334f43f132e85a6f17cfad3a\n",
            "Successfully built treelib\n",
            "Installing collected packages: treelib\n",
            "Successfully installed treelib-1.6.1\n"
          ]
        }
      ]
    },
    {
      "cell_type": "code",
      "source": [
        "from treelib import Node, Tree\n",
        "\n",
        "# Create the tree object and add the root node\n",
        "tree = Tree()\n",
        "tree.create_node(tag=51, identifier=51)\n",
        "\n",
        "# Add the remaining nodes to the tree\n",
        "tree.create_node(tag=43, identifier=43, parent=51)\n",
        "tree.create_node(tag=83, identifier=83, parent=51)\n",
        "tree.create_node(tag=20, identifier=20, parent=43)\n",
        "tree.create_node(tag=58, identifier=58, parent=83)\n",
        "tree.create_node(tag=93, identifier=93, parent=83)\n",
        "tree.create_node(tag=9, identifier=9, parent=20)\n",
        "tree.create_node(tag=37, identifier=37, parent=20)\n",
        "tree.create_node(tag=16, identifier=16, parent=9)\n",
        "tree.create_node(tag=36, identifier=36, parent=37)\n",
        "tree.create_node(tag=88, identifier=88, parent=93)\n",
        "\n",
        "# Show the tree using the Treelib built-in tree representation\n",
        "tree.show()"
      ],
      "metadata": {
        "colab": {
          "base_uri": "https://localhost:8080/"
        },
        "id": "vQpiihhIELcA",
        "outputId": "8c8f4caa-fad4-4d06-bbb3-cb21197e4570"
      },
      "execution_count": 29,
      "outputs": [
        {
          "output_type": "stream",
          "name": "stdout",
          "text": [
            "51\n",
            "├── 43\n",
            "│   └── 20\n",
            "│       ├── 9\n",
            "│       │   └── 16\n",
            "│       └── 37\n",
            "│           └── 36\n",
            "└── 83\n",
            "    ├── 58\n",
            "    └── 93\n",
            "        └── 88\n",
            "\n"
          ]
        }
      ]
    },
    {
      "cell_type": "code",
      "source": [
        "!pip install turtle"
      ],
      "metadata": {
        "colab": {
          "base_uri": "https://localhost:8080/"
        },
        "id": "0wQRSAp2HTXv",
        "outputId": "5604c990-cdfb-4901-9a2b-dcc9e3239d37"
      },
      "execution_count": 30,
      "outputs": [
        {
          "output_type": "stream",
          "name": "stdout",
          "text": [
            "Looking in indexes: https://pypi.org/simple, https://us-python.pkg.dev/colab-wheels/public/simple/\n",
            "Collecting turtle\n",
            "  Downloading turtle-0.0.2.tar.gz (11 kB)\n",
            "  \u001b[1;31merror\u001b[0m: \u001b[1msubprocess-exited-with-error\u001b[0m\n",
            "  \n",
            "  \u001b[31m×\u001b[0m \u001b[32mpython setup.py egg_info\u001b[0m did not run successfully.\n",
            "  \u001b[31m│\u001b[0m exit code: \u001b[1;36m1\u001b[0m\n",
            "  \u001b[31m╰─>\u001b[0m See above for output.\n",
            "  \n",
            "  \u001b[1;35mnote\u001b[0m: This error originates from a subprocess, and is likely not a problem with pip.\n",
            "  Preparing metadata (setup.py) ... \u001b[?25l\u001b[?25herror\n",
            "\u001b[1;31merror\u001b[0m: \u001b[1mmetadata-generation-failed\u001b[0m\n",
            "\n",
            "\u001b[31m×\u001b[0m Encountered error while generating package metadata.\n",
            "\u001b[31m╰─>\u001b[0m See above for output.\n",
            "\n",
            "\u001b[1;35mnote\u001b[0m: This is an issue with the package mentioned above, not pip.\n",
            "\u001b[1;36mhint\u001b[0m: See above for details.\n"
          ]
        }
      ]
    },
    {
      "cell_type": "code",
      "source": [
        "import graphviz  # doctest: +NO_EXE\n",
        "dot = graphviz.Digraph(comment='The njnj Table')\n",
        "dot  #doctest: +ELLIPSIS"
      ],
      "metadata": {
        "colab": {
          "base_uri": "https://localhost:8080/",
          "height": 34
        },
        "id": "Z-1XrSjvH8h6",
        "outputId": "62819d52-df57-40d0-fc5e-5168dd09fbdd"
      },
      "execution_count": 31,
      "outputs": [
        {
          "output_type": "execute_result",
          "data": {
            "text/plain": [
              "<graphviz.dot.Digraph at 0x7f96c7980340>"
            ],
            "image/svg+xml": "<?xml version=\"1.0\" encoding=\"UTF-8\" standalone=\"no\"?>\n<!DOCTYPE svg PUBLIC \"-//W3C//DTD SVG 1.1//EN\"\n \"http://www.w3.org/Graphics/SVG/1.1/DTD/svg11.dtd\">\n<!-- Generated by graphviz version 2.43.0 (0)\n -->\n<!-- Title: %3 Pages: 1 -->\n<svg width=\"8pt\" height=\"8pt\"\n viewBox=\"0.00 0.00 8.00 8.00\" xmlns=\"http://www.w3.org/2000/svg\" xmlns:xlink=\"http://www.w3.org/1999/xlink\">\n<g id=\"graph0\" class=\"graph\" transform=\"scale(1 1) rotate(0) translate(4 4)\">\n<title>%3</title>\n<polygon fill=\"white\" stroke=\"transparent\" points=\"-4,4 -4,-4 4,-4 4,4 -4,4\"/>\n</g>\n</svg>\n"
          },
          "metadata": {},
          "execution_count": 31
        }
      ]
    },
    {
      "cell_type": "code",
      "source": [
        "import graphviz\n",
        "\n",
        "dot = graphviz.Digraph(comment='Tree')\n",
        "\n",
        "# Add nodes\n",
        "dot.node('A', '51')\n",
        "dot.node('B', '43')\n",
        "dot.node('C', '83')\n",
        "dot.node('D', '20')\n",
        "dot.node('E', '58')\n",
        "dot.node('F', '93')\n",
        "dot.node('G', '9')\n",
        "dot.node('H', '37')\n",
        "dot.node('I', '16')\n",
        "dot.node('J', '36')\n",
        "dot.node('K', '88')\n",
        "\n",
        "# Add edges\n",
        "dot.edges(['AB', 'AC', 'BD', 'CE', 'CF', 'DG', 'DH', 'GI', 'HJ', 'FK'])\n",
        "\n",
        "# Render and save the graph\n",
        "dot\n"
      ],
      "metadata": {
        "colab": {
          "base_uri": "https://localhost:8080/",
          "height": 464
        },
        "id": "Fv9I0sun_2IA",
        "outputId": "b99eecb1-e40e-4469-9579-ebfd82c5c3ed"
      },
      "execution_count": 36,
      "outputs": [
        {
          "output_type": "execute_result",
          "data": {
            "text/plain": [
              "<graphviz.dot.Digraph at 0x7f96c79621c0>"
            ],
            "image/svg+xml": "<?xml version=\"1.0\" encoding=\"UTF-8\" standalone=\"no\"?>\n<!DOCTYPE svg PUBLIC \"-//W3C//DTD SVG 1.1//EN\"\n \"http://www.w3.org/Graphics/SVG/1.1/DTD/svg11.dtd\">\n<!-- Generated by graphviz version 2.43.0 (0)\n -->\n<!-- Title: %3 Pages: 1 -->\n<svg width=\"242pt\" height=\"332pt\"\n viewBox=\"0.00 0.00 242.00 332.00\" xmlns=\"http://www.w3.org/2000/svg\" xmlns:xlink=\"http://www.w3.org/1999/xlink\">\n<g id=\"graph0\" class=\"graph\" transform=\"scale(1 1) rotate(0) translate(4 328)\">\n<title>%3</title>\n<polygon fill=\"white\" stroke=\"transparent\" points=\"-4,4 -4,-328 238,-328 238,4 -4,4\"/>\n<!-- A -->\n<g id=\"node1\" class=\"node\">\n<title>A</title>\n<ellipse fill=\"none\" stroke=\"black\" cx=\"99\" cy=\"-306\" rx=\"27\" ry=\"18\"/>\n<text text-anchor=\"middle\" x=\"99\" y=\"-302.3\" font-family=\"Times,serif\" font-size=\"14.00\">51</text>\n</g>\n<!-- B -->\n<g id=\"node2\" class=\"node\">\n<title>B</title>\n<ellipse fill=\"none\" stroke=\"black\" cx=\"63\" cy=\"-234\" rx=\"27\" ry=\"18\"/>\n<text text-anchor=\"middle\" x=\"63\" y=\"-230.3\" font-family=\"Times,serif\" font-size=\"14.00\">43</text>\n</g>\n<!-- A&#45;&gt;B -->\n<g id=\"edge1\" class=\"edge\">\n<title>A&#45;&gt;B</title>\n<path fill=\"none\" stroke=\"black\" d=\"M90.65,-288.76C86.29,-280.28 80.85,-269.71 75.96,-260.2\"/>\n<polygon fill=\"black\" stroke=\"black\" points=\"78.99,-258.44 71.3,-251.15 72.77,-261.64 78.99,-258.44\"/>\n</g>\n<!-- C -->\n<g id=\"node3\" class=\"node\">\n<title>C</title>\n<ellipse fill=\"none\" stroke=\"black\" cx=\"135\" cy=\"-234\" rx=\"27\" ry=\"18\"/>\n<text text-anchor=\"middle\" x=\"135\" y=\"-230.3\" font-family=\"Times,serif\" font-size=\"14.00\">83</text>\n</g>\n<!-- A&#45;&gt;C -->\n<g id=\"edge2\" class=\"edge\">\n<title>A&#45;&gt;C</title>\n<path fill=\"none\" stroke=\"black\" d=\"M107.35,-288.76C111.71,-280.28 117.15,-269.71 122.04,-260.2\"/>\n<polygon fill=\"black\" stroke=\"black\" points=\"125.23,-261.64 126.7,-251.15 119.01,-258.44 125.23,-261.64\"/>\n</g>\n<!-- D -->\n<g id=\"node4\" class=\"node\">\n<title>D</title>\n<ellipse fill=\"none\" stroke=\"black\" cx=\"63\" cy=\"-162\" rx=\"27\" ry=\"18\"/>\n<text text-anchor=\"middle\" x=\"63\" y=\"-158.3\" font-family=\"Times,serif\" font-size=\"14.00\">20</text>\n</g>\n<!-- B&#45;&gt;D -->\n<g id=\"edge3\" class=\"edge\">\n<title>B&#45;&gt;D</title>\n<path fill=\"none\" stroke=\"black\" d=\"M63,-215.7C63,-207.98 63,-198.71 63,-190.11\"/>\n<polygon fill=\"black\" stroke=\"black\" points=\"66.5,-190.1 63,-180.1 59.5,-190.1 66.5,-190.1\"/>\n</g>\n<!-- E -->\n<g id=\"node5\" class=\"node\">\n<title>E</title>\n<ellipse fill=\"none\" stroke=\"black\" cx=\"135\" cy=\"-162\" rx=\"27\" ry=\"18\"/>\n<text text-anchor=\"middle\" x=\"135\" y=\"-158.3\" font-family=\"Times,serif\" font-size=\"14.00\">58</text>\n</g>\n<!-- C&#45;&gt;E -->\n<g id=\"edge4\" class=\"edge\">\n<title>C&#45;&gt;E</title>\n<path fill=\"none\" stroke=\"black\" d=\"M135,-215.7C135,-207.98 135,-198.71 135,-190.11\"/>\n<polygon fill=\"black\" stroke=\"black\" points=\"138.5,-190.1 135,-180.1 131.5,-190.1 138.5,-190.1\"/>\n</g>\n<!-- F -->\n<g id=\"node6\" class=\"node\">\n<title>F</title>\n<ellipse fill=\"none\" stroke=\"black\" cx=\"207\" cy=\"-162\" rx=\"27\" ry=\"18\"/>\n<text text-anchor=\"middle\" x=\"207\" y=\"-158.3\" font-family=\"Times,serif\" font-size=\"14.00\">93</text>\n</g>\n<!-- C&#45;&gt;F -->\n<g id=\"edge5\" class=\"edge\">\n<title>C&#45;&gt;F</title>\n<path fill=\"none\" stroke=\"black\" d=\"M149.57,-218.83C159.75,-208.94 173.52,-195.55 185.03,-184.36\"/>\n<polygon fill=\"black\" stroke=\"black\" points=\"187.47,-186.87 192.2,-177.38 182.59,-181.85 187.47,-186.87\"/>\n</g>\n<!-- G -->\n<g id=\"node7\" class=\"node\">\n<title>G</title>\n<ellipse fill=\"none\" stroke=\"black\" cx=\"27\" cy=\"-90\" rx=\"27\" ry=\"18\"/>\n<text text-anchor=\"middle\" x=\"27\" y=\"-86.3\" font-family=\"Times,serif\" font-size=\"14.00\">9</text>\n</g>\n<!-- D&#45;&gt;G -->\n<g id=\"edge6\" class=\"edge\">\n<title>D&#45;&gt;G</title>\n<path fill=\"none\" stroke=\"black\" d=\"M54.65,-144.76C50.29,-136.28 44.85,-125.71 39.96,-116.2\"/>\n<polygon fill=\"black\" stroke=\"black\" points=\"42.99,-114.44 35.3,-107.15 36.77,-117.64 42.99,-114.44\"/>\n</g>\n<!-- H -->\n<g id=\"node8\" class=\"node\">\n<title>H</title>\n<ellipse fill=\"none\" stroke=\"black\" cx=\"99\" cy=\"-90\" rx=\"27\" ry=\"18\"/>\n<text text-anchor=\"middle\" x=\"99\" y=\"-86.3\" font-family=\"Times,serif\" font-size=\"14.00\">37</text>\n</g>\n<!-- D&#45;&gt;H -->\n<g id=\"edge7\" class=\"edge\">\n<title>D&#45;&gt;H</title>\n<path fill=\"none\" stroke=\"black\" d=\"M71.35,-144.76C75.71,-136.28 81.15,-125.71 86.04,-116.2\"/>\n<polygon fill=\"black\" stroke=\"black\" points=\"89.23,-117.64 90.7,-107.15 83.01,-114.44 89.23,-117.64\"/>\n</g>\n<!-- K -->\n<g id=\"node11\" class=\"node\">\n<title>K</title>\n<ellipse fill=\"none\" stroke=\"black\" cx=\"207\" cy=\"-90\" rx=\"27\" ry=\"18\"/>\n<text text-anchor=\"middle\" x=\"207\" y=\"-86.3\" font-family=\"Times,serif\" font-size=\"14.00\">88</text>\n</g>\n<!-- F&#45;&gt;K -->\n<g id=\"edge10\" class=\"edge\">\n<title>F&#45;&gt;K</title>\n<path fill=\"none\" stroke=\"black\" d=\"M207,-143.7C207,-135.98 207,-126.71 207,-118.11\"/>\n<polygon fill=\"black\" stroke=\"black\" points=\"210.5,-118.1 207,-108.1 203.5,-118.1 210.5,-118.1\"/>\n</g>\n<!-- I -->\n<g id=\"node9\" class=\"node\">\n<title>I</title>\n<ellipse fill=\"none\" stroke=\"black\" cx=\"27\" cy=\"-18\" rx=\"27\" ry=\"18\"/>\n<text text-anchor=\"middle\" x=\"27\" y=\"-14.3\" font-family=\"Times,serif\" font-size=\"14.00\">16</text>\n</g>\n<!-- G&#45;&gt;I -->\n<g id=\"edge8\" class=\"edge\">\n<title>G&#45;&gt;I</title>\n<path fill=\"none\" stroke=\"black\" d=\"M27,-71.7C27,-63.98 27,-54.71 27,-46.11\"/>\n<polygon fill=\"black\" stroke=\"black\" points=\"30.5,-46.1 27,-36.1 23.5,-46.1 30.5,-46.1\"/>\n</g>\n<!-- J -->\n<g id=\"node10\" class=\"node\">\n<title>J</title>\n<ellipse fill=\"none\" stroke=\"black\" cx=\"99\" cy=\"-18\" rx=\"27\" ry=\"18\"/>\n<text text-anchor=\"middle\" x=\"99\" y=\"-14.3\" font-family=\"Times,serif\" font-size=\"14.00\">36</text>\n</g>\n<!-- H&#45;&gt;J -->\n<g id=\"edge9\" class=\"edge\">\n<title>H&#45;&gt;J</title>\n<path fill=\"none\" stroke=\"black\" d=\"M99,-71.7C99,-63.98 99,-54.71 99,-46.11\"/>\n<polygon fill=\"black\" stroke=\"black\" points=\"102.5,-46.1 99,-36.1 95.5,-46.1 102.5,-46.1\"/>\n</g>\n</g>\n</svg>\n"
          },
          "metadata": {},
          "execution_count": 36
        }
      ]
    },
    {
      "cell_type": "code",
      "source": [],
      "metadata": {
        "id": "OHwRRJmaAJzf"
      },
      "execution_count": null,
      "outputs": []
    }
  ]
}