{
  "nbformat": 4,
  "nbformat_minor": 0,
  "metadata": {
    "colab": {
      "provenance": []
    },
    "kernelspec": {
      "name": "python3",
      "display_name": "Python 3"
    },
    "language_info": {
      "name": "python"
    }
  },
  "cells": [
    {
      "cell_type": "code",
      "source": [
        "class NQueens:\n",
        "\n",
        "    def __init__(self, size):\n",
        "        self.size = size\n",
        "\n",
        "    def solve_bfs(self):\n",
        "        if self.size < 1:\n",
        "            return []\n",
        "        \n",
        "        solutions = []\n",
        "        queue = [[]]\n",
        "        \n",
        "        while queue:\n",
        "            solution = queue.pop(0)\n",
        "            if self.conflict(solution):\n",
        "                continue\n",
        "            row = len(solution)\n",
        "            if row == self.size:\n",
        "                solutions.append(solution)\n",
        "                continue\n",
        "            for col in range(self.size):\n",
        "                queen = (row, col)\n",
        "                queens = solution.copy()\n",
        "                queens.append(queen)\n",
        "                queue.append(queens)\n",
        "        return solutions\n",
        "\n",
        "    def conflict(self, queens):\n",
        "        for i in range(1, len(queens)):\n",
        "            for j in range(0, i):\n",
        "                a, b = queens[i]\n",
        "                c, d = queens[j]\n",
        "                if a == c or b == d or abs(a - c) == abs(b - d):\n",
        "                    return True\n",
        "        return False\n",
        "\n",
        "    def print(self, queens):\n",
        "        for i in range(self.size):\n",
        "            print(' ---' * self.size)\n",
        "            for j in range(self.size):\n",
        "                p = 'Q' if (i, j) in queens else ' '\n",
        "                print('| %s ' % p, end='')\n",
        "            print('|')\n",
        "        print(' ---' * self.size)\n"
      ],
      "metadata": {
        "id": "NXhE01j0iu1-"
      },
      "execution_count": 33,
      "outputs": []
    },
    {
      "cell_type": "code",
      "source": [
        "t = NQueens(4)"
      ],
      "metadata": {
        "id": "bk7w6qUQ6X8a"
      },
      "execution_count": 34,
      "outputs": []
    },
    {
      "cell_type": "code",
      "source": [
        "sol=t.solve_bfs()"
      ],
      "metadata": {
        "id": "wrJD0QUd6fD6"
      },
      "execution_count": 35,
      "outputs": []
    },
    {
      "cell_type": "code",
      "source": [
        "sol"
      ],
      "metadata": {
        "colab": {
          "base_uri": "https://localhost:8080/"
        },
        "id": "WuUGun_v6q96",
        "outputId": "4b3c9ba9-f3e3-4ec5-fcc7-5eb56c5fa1e0"
      },
      "execution_count": 36,
      "outputs": [
        {
          "output_type": "execute_result",
          "data": {
            "text/plain": [
              "[[(0, 1), (1, 3), (2, 0), (3, 2)], [(0, 2), (1, 0), (2, 3), (3, 1)]]"
            ]
          },
          "metadata": {},
          "execution_count": 36
        }
      ]
    },
    {
      "cell_type": "code",
      "source": [
        "t.print(sol[0])"
      ],
      "metadata": {
        "colab": {
          "base_uri": "https://localhost:8080/"
        },
        "id": "M27fgJRu6sA1",
        "outputId": "a5418a77-16fa-4154-e198-5b919ad8bccc"
      },
      "execution_count": 37,
      "outputs": [
        {
          "output_type": "stream",
          "name": "stdout",
          "text": [
            " --- --- --- ---\n",
            "|   | Q |   |   |\n",
            " --- --- --- ---\n",
            "|   |   |   | Q |\n",
            " --- --- --- ---\n",
            "| Q |   |   |   |\n",
            " --- --- --- ---\n",
            "|   |   | Q |   |\n",
            " --- --- --- ---\n"
          ]
        }
      ]
    },
    {
      "cell_type": "code",
      "source": [],
      "metadata": {
        "id": "k4DsKMJj6tdU"
      },
      "execution_count": null,
      "outputs": []
    },
    {
      "cell_type": "markdown",
      "source": [
        "Past 2:\n",
        "AS the cost for each node is same, UFC would behave same as the BFS"
      ],
      "metadata": {
        "id": "DJhLzzXN_yn3"
      }
    }
  ]
}